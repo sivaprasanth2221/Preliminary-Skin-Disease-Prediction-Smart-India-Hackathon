{
 "cells": [
  {
   "cell_type": "code",
   "execution_count": 2,
   "id": "continental-jonathan",
   "metadata": {
    "execution": {
     "iopub.execute_input": "2021-05-02T14:17:08.452742Z",
     "iopub.status.busy": "2021-05-02T14:17:08.452074Z",
     "iopub.status.idle": "2021-05-02T14:17:10.253046Z",
     "shell.execute_reply": "2021-05-02T14:17:10.252134Z"
    },
    "id": "YwCrCTU4b5Mu",
    "papermill": {
     "duration": 1.828106,
     "end_time": "2021-05-02T14:17:10.253184",
     "exception": false,
     "start_time": "2021-05-02T14:17:08.425078",
     "status": "completed"
    },
    "tags": []
   },
   "outputs": [],
   "source": [
    "from __future__ import unicode_literals, print_function, division\n",
    "from io import open\n",
    "import unicodedata\n",
    "import string\n",
    "import re\n",
    "import random\n",
    "import pandas as pd\n",
    "import torch\n",
    "import torch.nn as nn\n",
    "from torch import optim\n",
    "import torch.nn.functional as F\n",
    "import numpy as np\n",
    "\n",
    "from torch.utils.data import DataLoader\n",
    "from torch.nn.utils.rnn import pad_sequence\n",
    "from tqdm import tqdm\n",
    "\n",
    "import os\n",
    "import tarfile\n",
    "import wandb\n",
    "import matplotlib.pyplot as plt\n",
    "import matplotlib.ticker as ticker"
   ]
  },
  {
   "cell_type": "code",
   "execution_count": 3,
   "id": "confused-joyce",
   "metadata": {
    "execution": {
     "iopub.execute_input": "2021-05-02T14:17:10.739178Z",
     "iopub.status.busy": "2021-05-02T14:17:10.738457Z",
     "iopub.status.idle": "2021-05-02T14:17:10.741585Z",
     "shell.execute_reply": "2021-05-02T14:17:10.741967Z"
    },
    "id": "oAqD2MDG2Pqf",
    "papermill": {
     "duration": 0.466661,
     "end_time": "2021-05-02T14:17:10.742116",
     "exception": false,
     "start_time": "2021-05-02T14:17:10.275455",
     "status": "completed"
    },
    "tags": []
   },
   "outputs": [],
   "source": [
    "def get_default_device():\n",
    "    \"\"\"Pick GPU if available, else CPU\"\"\"\n",
    "    if torch.cuda.is_available():\n",
    "        return torch.device('cuda')\n",
    "    else:\n",
    "        return torch.device('cpu')\n",
    "\n",
    "device = get_default_device() "
   ]
  },
  {
   "cell_type": "markdown",
   "id": "forty-lesson",
   "metadata": {
    "papermill": {
     "duration": 0.021602,
     "end_time": "2021-05-02T14:17:10.786175",
     "exception": false,
     "start_time": "2021-05-02T14:17:10.764573",
     "status": "completed"
    },
    "tags": []
   },
   "source": [
    "# Wandb Login & Init"
   ]
  },
  {
   "cell_type": "code",
   "execution_count": 4,
   "id": "blind-island",
   "metadata": {
    "execution": {
     "iopub.execute_input": "2021-05-02T14:17:10.834864Z",
     "iopub.status.busy": "2021-05-02T14:17:10.834102Z",
     "iopub.status.idle": "2021-05-02T14:17:18.029629Z",
     "shell.execute_reply": "2021-05-02T14:17:18.028843Z"
    },
    "papermill": {
     "duration": 7.221764,
     "end_time": "2021-05-02T14:17:18.029767",
     "exception": false,
     "start_time": "2021-05-02T14:17:10.808003",
     "status": "completed"
    },
    "tags": []
   },
   "outputs": [
    {
     "name": "stderr",
     "output_type": "stream",
     "text": [
      "\u001b[34m\u001b[1mwandb\u001b[0m: W&B API key is configured (use `wandb login --relogin` to force relogin)\n",
      "\u001b[34m\u001b[1mwandb\u001b[0m: \u001b[33mWARNING\u001b[0m If you're specifying your api key in code, ensure this code is not shared publically.\n",
      "\u001b[34m\u001b[1mwandb\u001b[0m: \u001b[33mWARNING\u001b[0m Consider setting the WANDB_API_KEY environment variable, or running `wandb login` from the command line.\n",
      "\u001b[34m\u001b[1mwandb\u001b[0m: Appending key for api.wandb.ai to your netrc file: /root/.netrc\n",
      "\u001b[34m\u001b[1mwandb\u001b[0m: Currently logged in as: \u001b[33mee18b153\u001b[0m (use `wandb login --relogin` to force relogin)\n",
      "\u001b[34m\u001b[1mwandb\u001b[0m: wandb version 0.10.28 is available!  To upgrade, please run:\n",
      "\u001b[34m\u001b[1mwandb\u001b[0m:  $ pip install wandb --upgrade\n"
     ]
    },
    {
     "data": {
      "text/html": [
       "\n",
       "                Tracking run with wandb version 0.10.26<br/>\n",
       "                Syncing run <strong style=\"color:#cdcd00\">glad-field-5</strong> to <a href=\"https://wandb.ai\" target=\"_blank\">Weights & Biases</a> <a href=\"https://docs.wandb.com/integrations/jupyter.html\" target=\"_blank\">(Documentation)</a>.<br/>\n",
       "                Project page: <a href=\"https://wandb.ai/ee18b153/attention\" target=\"_blank\">https://wandb.ai/ee18b153/attention</a><br/>\n",
       "                Run page: <a href=\"https://wandb.ai/ee18b153/attention/runs/31sqjspg\" target=\"_blank\">https://wandb.ai/ee18b153/attention/runs/31sqjspg</a><br/>\n",
       "                Run data is saved locally in <code>/kaggle/working/wandb/run-20210502_141711-31sqjspg</code><br/><br/>\n",
       "            "
      ],
      "text/plain": [
       "<IPython.core.display.HTML object>"
      ]
     },
     "metadata": {},
     "output_type": "display_data"
    },
    {
     "data": {
      "text/html": [
       "<h1>Run(31sqjspg)</h1><iframe src=\"https://wandb.ai/ee18b153/attention/runs/31sqjspg\" style=\"border:none;width:100%;height:400px\"></iframe>"
      ],
      "text/plain": [
       "<wandb.sdk.wandb_run.Run at 0x7fa1f807f4d0>"
      ]
     },
     "execution_count": 4,
     "metadata": {},
     "output_type": "execute_result"
    }
   ],
   "source": [
    "wandb.login(key='feaed71a1d227d1c2ec9d80e592582248a32f930', force=True)\n",
    "wandb.init(project='attention')"
   ]
  },
  {
   "cell_type": "code",
   "execution_count": 5,
   "id": "active-metallic",
   "metadata": {
    "execution": {
     "iopub.execute_input": "2021-05-02T14:17:18.101558Z",
     "iopub.status.busy": "2021-05-02T14:17:18.100634Z",
     "iopub.status.idle": "2021-05-02T14:17:36.727017Z",
     "shell.execute_reply": "2021-05-02T14:17:36.726496Z"
    },
    "id": "xRTAafVelKFz",
    "outputId": "60628f16-21c5-4c08-fabf-48299f52090b",
    "papermill": {
     "duration": 18.67153,
     "end_time": "2021-05-02T14:17:36.727146",
     "exception": false,
     "start_time": "2021-05-02T14:17:18.055616",
     "status": "completed"
    },
    "tags": []
   },
   "outputs": [
    {
     "name": "stdout",
     "output_type": "stream",
     "text": [
      "--2021-05-02 14:17:18--  https://storage.googleapis.com/gresearch/dakshina/dakshina_dataset_v1.0.tar\r\n",
      "Resolving storage.googleapis.com (storage.googleapis.com)... 108.177.126.128, 173.194.69.128, 74.125.143.128, ...\r\n",
      "Connecting to storage.googleapis.com (storage.googleapis.com)|108.177.126.128|:443... connected.\r\n",
      "HTTP request sent, awaiting response... 200 OK\r\n",
      "Length: 2008340480 (1.9G) [application/x-tar]\r\n",
      "Saving to: ‘dakshina_dataset_v1.0.tar’\r\n",
      "\r\n",
      "dakshina_dataset_v1 100%[===================>]   1.87G   187MB/s    in 9.8s    \r\n",
      "\r\n",
      "2021-05-02 14:17:28 (196 MB/s) - ‘dakshina_dataset_v1.0.tar’ saved [2008340480/2008340480]\r\n",
      "\r\n"
     ]
    }
   ],
   "source": [
    "!wget -nc https://storage.googleapis.com/gresearch/dakshina/dakshina_dataset_v1.0.tar\n",
    "\n",
    "if not os.path.isdir('dakshina_dataset_v1.0'):\n",
    "  tarfile.open(\"dakshina_dataset_v1.0.tar\").extractall() "
   ]
  },
  {
   "cell_type": "code",
   "execution_count": 6,
   "id": "opened-church",
   "metadata": {
    "execution": {
     "iopub.execute_input": "2021-05-02T14:17:39.971683Z",
     "iopub.status.busy": "2021-05-02T14:17:39.971074Z",
     "iopub.status.idle": "2021-05-02T14:17:39.978315Z",
     "shell.execute_reply": "2021-05-02T14:17:39.978856Z"
    },
    "id": "4sv3XPnCoU2U",
    "papermill": {
     "duration": 0.808835,
     "end_time": "2021-05-02T14:17:39.979075",
     "exception": false,
     "start_time": "2021-05-02T14:17:39.170240",
     "status": "completed"
    },
    "tags": []
   },
   "outputs": [],
   "source": [
    "class data_loader():\n",
    "\n",
    "  @staticmethod\n",
    "  def _load_raw_df(languages = [\"hi\", \"mr\"]):\n",
    "    lex = dict()\n",
    "    lex['train'], lex['val'], lex['test'] = [], [], [] \n",
    "    column_names = ['output', 'input', 'count']\n",
    "    \n",
    "    for la in languages:\n",
    "      lex['train'].append(pd.read_csv('dakshina_dataset_v1.0/'+la+'/lexicons/'+la+'.translit.sampled.train.tsv', sep='\\t', header=None, names=column_names))\n",
    "      lex['val'].append(pd.read_csv('dakshina_dataset_v1.0/'+la+'/lexicons/'+la+'.translit.sampled.dev.tsv', sep='\\t', header=None, names=column_names))\n",
    "      lex['test'].append(pd.read_csv('dakshina_dataset_v1.0/'+la+'/lexicons/'+la+'.translit.sampled.test.tsv', sep='\\t', header=None, names=column_names))\n",
    "\n",
    "    lex['train'] = pd.concat(lex['train'])\n",
    "    lex['val'] = pd.concat(lex['val'])\n",
    "    lex['test'] = pd.concat(lex['test'])\n",
    "\n",
    "    return lex    \n",
    "\n",
    "  @staticmethod\n",
    "  def _make_final_df(lex):\n",
    "    \n",
    "    for div in ['train', 'val', 'test']:\n",
    "    \n",
    "      # removing non max transliterations\n",
    "      idx = lex[div].groupby(['input'])['count'].transform(max) == lex[div]['count']\n",
    "      lex[div] = lex[div][idx].reset_index(drop=True)\n",
    "\n",
    "      # calclulating difference in lengths of various transliterations\n",
    "      lex[div]['input_len'] = lex[div].apply(lambda x: len(str(x['input'])), axis=1)\n",
    "      lex[div]['output_len'] = lex[div].apply(lambda y: len(str(y['output'])), axis=1)\n",
    "      lex[div]['mod_dif'] = lex[div].apply(lambda z: abs(z['input_len'] - z['output_len']), axis=1) \n",
    "\n",
    "      # removing transliterations that vary by a lot in length\n",
    "      idx = lex[div].groupby(['input'])['mod_dif'].transform(min) == lex[div]['mod_dif']\n",
    "      lex[div] = lex[div][idx].reset_index(drop=True)\n",
    "\n",
    "      # removing duplicates if any remain\n",
    "      lex[div].drop_duplicates(subset='input', keep='first', inplace=True)\n",
    "\n",
    "      # removing redundant columns\n",
    "      lex[div].drop(labels=['count', 'input_len', 'output_len', 'mod_dif'], inplace=True, axis=1)\n",
    "\n",
    "    return lex"
   ]
  },
  {
   "cell_type": "code",
   "execution_count": 7,
   "id": "measured-humidity",
   "metadata": {
    "execution": {
     "iopub.execute_input": "2021-05-02T14:17:43.398208Z",
     "iopub.status.busy": "2021-05-02T14:17:43.397183Z",
     "iopub.status.idle": "2021-05-02T14:17:43.415387Z",
     "shell.execute_reply": "2021-05-02T14:17:43.416556Z"
    },
    "id": "8gQvfg8poaAO",
    "jupyter": {
     "source_hidden": true
    },
    "papermill": {
     "duration": 1.209387,
     "end_time": "2021-05-02T14:17:43.416790",
     "exception": false,
     "start_time": "2021-05-02T14:17:42.207403",
     "status": "completed"
    },
    "tags": []
   },
   "outputs": [],
   "source": [
    "class Tokenizer:\n",
    "\n",
    "  def __init__(self, df):\n",
    "\n",
    "    # special tokens\n",
    "    self.start_token = '<SOW>'\n",
    "    self.stop_token = '<EOW>'\n",
    "    self.unknown_token = '<UNK>'\n",
    "\n",
    "    # building vocabulary\n",
    "    self.input_vocab = [self.start_token, self.stop_token, self.unknown_token]\n",
    "    self.output_vocab = [self.start_token, self.stop_token, self.unknown_token]\n",
    "\n",
    "    input_words = df.input.tolist()\n",
    "    output_words = df.output.tolist()\n",
    "\n",
    "    for word in input_words:\n",
    "      tokens = str(word)\n",
    "      for token in tokens:\n",
    "        if token not in self.input_vocab:\n",
    "          self.input_vocab.append(token)\n",
    "\n",
    "    for word in output_words:\n",
    "      tokens = str(word)\n",
    "      for token in tokens:\n",
    "        if token not in self.output_vocab:\n",
    "          self.output_vocab.append(token)\n",
    "    \n",
    "    # building word2idx and idx2word dictionaries\n",
    "    self.word2idx_input = {self.input_vocab[i] : i+1 for i in range(len(self.input_vocab))}\n",
    "    self.idx2word_input = {k:v for v,k in self.word2idx_input.items()}\n",
    "    \n",
    "    self.word2idx_output = {self.output_vocab[i] : i+1 for i in range(len(self.output_vocab))}\n",
    "    self.idx2word_output = {k:v for v,k in self.word2idx_output.items()}\n",
    "\n",
    "  # takes in lists of words and returns lists of integers\n",
    "  def encode(self, X, mode='input'):\n",
    "\n",
    "    if (mode=='input'):\n",
    "      input_list = []\n",
    "      for word in X:\n",
    "        word = str(word)\n",
    "        integer_list =[self.word2idx_input.get(token, self.word2idx_input[self.unknown_token]) for token in word]\n",
    "        input_list.append(torch.tensor(integer_list, device=device))\n",
    "      \n",
    "      # input_list = pad_sequence(input_list, batch_first=True)\n",
    "      return input_list\n",
    "    \n",
    "    if (mode=='output'):\n",
    "      output_list = []\n",
    "      for word in X:\n",
    "        word = str(word)\n",
    "        integer_list = [self.word2idx_output.get(token, self.word2idx_output[self.unknown_token]) for token in word] + [self.word2idx_output[self.stop_token]]\n",
    "        output_list.append(torch.tensor(integer_list,device=device))\n",
    "\n",
    "      # output_list = pad_sequence(output_list, batch_first=True)\n",
    "      return output_list\n",
    "    \n",
    "  # takes in lists of integers and returns lists of words\n",
    "  def decode(self, X, mode='input'):\n",
    "\n",
    "    if (mode=='input'):\n",
    "      input_list = []\n",
    "      for integers in X:\n",
    "        token_list = [self.idx2word_input.get(integer, '0') for integer in integers] \n",
    "        input_list.append(''.join(token_list))\n",
    "      \n",
    "      return input_list\n",
    "\n",
    "    if (mode=='output'):\n",
    "      output_list = []\n",
    "      for integers in X:\n",
    "        token_list = [self.idx2word_output.get(integer, '0') for integer in integers[1:-1]] \n",
    "        output_list.append(''.join(token_list))\n",
    "      \n",
    "      return output_list"
   ]
  },
  {
   "cell_type": "code",
   "execution_count": 8,
   "id": "solved-torture",
   "metadata": {
    "execution": {
     "iopub.execute_input": "2021-05-02T14:17:43.651584Z",
     "iopub.status.busy": "2021-05-02T14:17:43.650564Z",
     "iopub.status.idle": "2021-05-02T14:17:43.655000Z",
     "shell.execute_reply": "2021-05-02T14:17:43.656121Z"
    },
    "id": "hGMtkw59odI3",
    "papermill": {
     "duration": 0.117446,
     "end_time": "2021-05-02T14:17:43.656346",
     "exception": false,
     "start_time": "2021-05-02T14:17:43.538900",
     "status": "completed"
    },
    "tags": []
   },
   "outputs": [],
   "source": [
    "def return_data_dict(languages=['hi', 'mr']):\n",
    "\n",
    "  lex = data_loader._load_raw_df(languages)\n",
    "  lex = data_loader._make_final_df(lex)\n",
    "\n",
    "  data_dict = dict()\n",
    "\n",
    "  df_train = lex['train']\n",
    "  df_val = lex['val']\n",
    "  df_test = lex['test']\n",
    "\n",
    "  tk = Tokenizer(df_train)\n",
    "\n",
    "  data_dict['input_vocab_size'] = len(tk.input_vocab) + 1\n",
    "  data_dict['output_vocab_size'] = len(tk.output_vocab) + 1\n",
    "\n",
    "  X_train = tk.encode(df_train.input.tolist(), mode='input')\n",
    "  Y_train = tk.encode(df_train.output.tolist(), mode='output')\n",
    "  X_val = tk.encode(df_val.input.tolist(), mode='input')\n",
    "  Y_val = tk.encode(df_val.output.tolist(), mode='output')\n",
    "  X_test = tk.encode(df_test.input.tolist(), mode='input')\n",
    "  Y_test = tk.encode(df_test.output.tolist(), mode='output')\n",
    "\n",
    "  max_source_length = np.max(np.array([len(x) for x in X_train]))\n",
    "  max_target_length = np.max(np.array([len(x) for x in Y_train]))\n",
    "\n",
    "  data_dict['train'], data_dict['val'], data_dict['test']= dict(), dict(), dict()\n",
    "\n",
    "  data_dict['train']['df'] = df_train\n",
    "  data_dict['val']['df'] = df_val\n",
    "  data_dict['test']['df'] = df_test\n",
    "\n",
    "  data_dict['train']['X'] = X_train \n",
    "  data_dict['train']['Y'] = Y_train\n",
    "  data_dict['val']['X'] = X_val\n",
    "  data_dict['val']['Y'] = Y_val\n",
    "  data_dict['test']['X'] = X_test\n",
    "  data_dict['test']['Y'] = Y_test\n",
    "\n",
    "  data_dict['train']['pairs'] = list(zip(X_train, Y_train))\n",
    "  data_dict['val']['pairs'] = list(zip(X_val, Y_val))\n",
    "  data_dict['test']['pairs'] = list(zip(X_test, Y_test))\n",
    "\n",
    "  data_dict['train']['max_source_length'] = np.max(np.array([len(x) for x in X_train]))\n",
    "  data_dict['train']['max_target_length'] = np.max(np.array([len(x) for x in Y_train]))\n",
    "  data_dict['val']['max_source_length'] = np.max(np.array([len(x) for x in X_val]))\n",
    "  data_dict['val']['max_target_length'] = np.max(np.array([len(x) for x in Y_test]))\n",
    "  data_dict['test']['max_source_length'] = np.max(np.array([len(x) for x in X_test]))\n",
    "  data_dict['test']['max_target_length'] = np.max(np.array([len(x) for x in Y_test]))\n",
    "\n",
    "  data_dict['max_length'] = max([data_dict['train']['max_source_length'],\n",
    "                                 data_dict['train']['max_target_length'],\n",
    "                                 data_dict['val']['max_source_length'],\n",
    "                                 data_dict['val']['max_target_length'],\n",
    "                                 data_dict['test']['max_source_length'],\n",
    "                                 data_dict['test']['max_target_length']\n",
    "                                 ])\n",
    "\n",
    "  return data_dict, tk"
   ]
  },
  {
   "cell_type": "code",
   "execution_count": 9,
   "id": "cosmetic-logistics",
   "metadata": {
    "execution": {
     "iopub.execute_input": "2021-05-02T14:17:43.889784Z",
     "iopub.status.busy": "2021-05-02T14:17:43.888901Z",
     "iopub.status.idle": "2021-05-02T14:18:02.360124Z",
     "shell.execute_reply": "2021-05-02T14:18:02.359626Z"
    },
    "id": "cY0nqHMMowPW",
    "papermill": {
     "duration": 18.578528,
     "end_time": "2021-05-02T14:18:02.360268",
     "exception": false,
     "start_time": "2021-05-02T14:17:43.781740",
     "status": "completed"
    },
    "tags": []
   },
   "outputs": [],
   "source": [
    "data_dict, tk = return_data_dict()"
   ]
  },
  {
   "cell_type": "code",
   "execution_count": 10,
   "id": "paperback-viewer",
   "metadata": {
    "execution": {
     "iopub.execute_input": "2021-05-02T14:18:12.899253Z",
     "iopub.status.busy": "2021-05-02T14:18:12.898712Z",
     "iopub.status.idle": "2021-05-02T14:18:12.901836Z",
     "shell.execute_reply": "2021-05-02T14:18:12.902341Z"
    },
    "id": "5l7EBg0GsXrD",
    "papermill": {
     "duration": 10.502124,
     "end_time": "2021-05-02T14:18:12.902545",
     "exception": false,
     "start_time": "2021-05-02T14:18:02.400421",
     "status": "completed"
    },
    "tags": []
   },
   "outputs": [],
   "source": [
    "def to_device(data, device=device):\n",
    "    \"\"\"Move tensor(s) to chosen device\"\"\"\n",
    "    if isinstance(data, (list,tuple)):\n",
    "        return [to_device(x, device) for x in data]\n",
    "    return data.to(device, non_blocking=True)\n",
    "\n",
    "class DeviceDataLoader():\n",
    "  def __init__(self, dl, device):\n",
    "    self.device = device\n",
    "    self.dl = dl\n",
    "  \n",
    "  def __iter__(self):\n",
    "    for b in self.dl:\n",
    "      input_word, output_word = b\n",
    "      yield to_device([torch.tensor(input_word), torch.tensor(output_word)], self.device)\n",
    "\n",
    "  def __len__(self):\n",
    "    return len(self.dl)"
   ]
  },
  {
   "cell_type": "code",
   "execution_count": 11,
   "id": "broke-grenada",
   "metadata": {
    "execution": {
     "iopub.execute_input": "2021-05-02T14:18:12.992216Z",
     "iopub.status.busy": "2021-05-02T14:18:12.988451Z",
     "iopub.status.idle": "2021-05-02T14:18:12.993371Z",
     "shell.execute_reply": "2021-05-02T14:18:12.992868Z"
    },
    "id": "vuX6AqEhv6LC",
    "papermill": {
     "duration": 0.049485,
     "end_time": "2021-05-02T14:18:12.993518",
     "exception": false,
     "start_time": "2021-05-02T14:18:12.944033",
     "status": "completed"
    },
    "tags": []
   },
   "outputs": [],
   "source": [
    "# train_dataset = [(data_dict['train']['X'][i], data_dict['train']['Y'][i]) for i in range(len(data_dict['train']['X']))]\n",
    "train_dl = DataLoader(data_dict['train']['pairs'], batch_size=1)\n",
    "\n",
    "# valid_dataset = [(data_dict['val']['X'][i], data_dict['val']['Y'][i]) for i in range(len(data_dict['val']['X']))]\n",
    "valid_dl = DataLoader(data_dict['val']['pairs'], batch_size=1)\n",
    "\n",
    "test_dl = DataLoader(data_dict['test']['pairs'], batch_size=1)\n",
    "\n",
    "train_dl = DeviceDataLoader(train_dl, device)\n",
    "valid_dl = DeviceDataLoader(valid_dl, device)\n",
    "test_dl = DeviceDataLoader(test_dl, device)"
   ]
  },
  {
   "cell_type": "markdown",
   "id": "norwegian-album",
   "metadata": {
    "id": "yIOfOk3mmMbA",
    "papermill": {
     "duration": 0.03826,
     "end_time": "2021-05-02T14:18:13.072906",
     "exception": false,
     "start_time": "2021-05-02T14:18:13.034646",
     "status": "completed"
    },
    "tags": []
   },
   "source": [
    "# The Encoder"
   ]
  },
  {
   "cell_type": "code",
   "execution_count": 12,
   "id": "desperate-legislature",
   "metadata": {
    "execution": {
     "iopub.execute_input": "2021-05-02T14:18:13.157780Z",
     "iopub.status.busy": "2021-05-02T14:18:13.156923Z",
     "iopub.status.idle": "2021-05-02T14:18:13.159313Z",
     "shell.execute_reply": "2021-05-02T14:18:13.159940Z"
    },
    "id": "pOrO7z-Cb5M9",
    "papermill": {
     "duration": 0.049122,
     "end_time": "2021-05-02T14:18:13.160124",
     "exception": false,
     "start_time": "2021-05-02T14:18:13.111002",
     "status": "completed"
    },
    "tags": []
   },
   "outputs": [],
   "source": [
    "class EncoderRNN(nn.Module):\n",
    "    def __init__(self, input_size, embedding_size, hidden_size):\n",
    "        super(EncoderRNN, self).__init__()\n",
    "        self.hidden_size = hidden_size\n",
    "        self.embedding_size = embedding_size\n",
    "\n",
    "        self.embedding = nn.Embedding(input_size, embedding_size)\n",
    "        self.lstm = nn.LSTM(embedding_size, hidden_size)\n",
    "\n",
    "    def forward(self, input, hidden):\n",
    "        embedded = self.embedding(input).view(1, 1, -1)\n",
    "        output = embedded\n",
    "        # print(f\"Output Size: {output.size()} Hidden Size: {len(hidden)}\", end='\\n#####\\n\\n')\n",
    "        output, *hidden = self.lstm(output, hidden)\n",
    "        hidden = hidden[0]\n",
    "        # print(\"Output Hidden:\", hidden, sep='\\n-----\\n', end='\\n#####\\n\\n')\n",
    "        # print(f\"LSTM Output Size: {output.size()} LSTM Hidden Size: {len(hidden)}\", end='\\n#####\\n\\n')\n",
    "        # print(\"EXITING ENCODER!\")\n",
    "        return output, hidden\n",
    "\n",
    "    def initHidden(self):\n",
    "        return (torch.zeros(1, 1, self.hidden_size, device=device), torch.zeros(1, 1, self.hidden_size, device=device)) "
   ]
  },
  {
   "cell_type": "markdown",
   "id": "monetary-roberts",
   "metadata": {
    "id": "LOMyiGe1b5M9",
    "papermill": {
     "duration": 0.037625,
     "end_time": "2021-05-02T14:18:13.238773",
     "exception": false,
     "start_time": "2021-05-02T14:18:13.201148",
     "status": "completed"
    },
    "tags": []
   },
   "source": [
    "# The Decoder\n",
    "\n",
    "\n"
   ]
  },
  {
   "cell_type": "code",
   "execution_count": 13,
   "id": "threatened-invitation",
   "metadata": {
    "execution": {
     "iopub.execute_input": "2021-05-02T14:18:13.323822Z",
     "iopub.status.busy": "2021-05-02T14:18:13.322989Z",
     "iopub.status.idle": "2021-05-02T14:18:13.326169Z",
     "shell.execute_reply": "2021-05-02T14:18:13.325243Z"
    },
    "id": "Cs3W22b0b5M-",
    "papermill": {
     "duration": 0.049295,
     "end_time": "2021-05-02T14:18:13.326318",
     "exception": false,
     "start_time": "2021-05-02T14:18:13.277023",
     "status": "completed"
    },
    "tags": []
   },
   "outputs": [],
   "source": [
    "class DecoderRNN(nn.Module):\n",
    "    def __init__(self, hidden_size, output_size):\n",
    "        super(DecoderRNN, self).__init__()\n",
    "        self.hidden_size = hidden_size\n",
    "\n",
    "        self.embedding = nn.Embedding(output_size, hidden_size)\n",
    "        self.lstm = nn.GRU(hidden_size, hidden_size)\n",
    "        self.out = nn.Linear(hidden_size, output_size)\n",
    "        self.softmax = nn.LogSoftmax(dim=1)\n",
    "\n",
    "    def forward(self, input, hidden):\n",
    "        output = self.embedding(input).view(1, 1, -1)\n",
    "        output = F.relu(output)\n",
    "        output, hidden = self.lstm(output, hidden)\n",
    "        output = self.softmax(self.out(output[0]))\n",
    "        return output, hidden\n",
    "\n",
    "    def initHidden(self):\n",
    "        return torch.zeros(2, 1, 1, self.hidden_size, device=device)"
   ]
  },
  {
   "cell_type": "markdown",
   "id": "isolated-philosophy",
   "metadata": {
    "id": "X0M3XAb-FEAM",
    "papermill": {
     "duration": 0.03776,
     "end_time": "2021-05-02T14:18:13.406891",
     "exception": false,
     "start_time": "2021-05-02T14:18:13.369131",
     "status": "completed"
    },
    "tags": []
   },
   "source": [
    "# Attention Layer"
   ]
  },
  {
   "cell_type": "code",
   "execution_count": 14,
   "id": "precise-dispatch",
   "metadata": {
    "execution": {
     "iopub.execute_input": "2021-05-02T14:18:13.496988Z",
     "iopub.status.busy": "2021-05-02T14:18:13.496141Z",
     "iopub.status.idle": "2021-05-02T14:18:13.502725Z",
     "shell.execute_reply": "2021-05-02T14:18:13.502028Z"
    },
    "id": "0YO6Cj1-b5NB",
    "papermill": {
     "duration": 0.05802,
     "end_time": "2021-05-02T14:18:13.502902",
     "exception": false,
     "start_time": "2021-05-02T14:18:13.444882",
     "status": "completed"
    },
    "tags": []
   },
   "outputs": [],
   "source": [
    "class AttnDecoderRNN(nn.Module):\n",
    "    def __init__(self, embedding_size, hidden_size, output_size, dropout_p=0.1, max_length=data_dict['max_length']):\n",
    "        super(AttnDecoderRNN, self).__init__()\n",
    "        self.hidden_size = hidden_size\n",
    "        self.embedding_size = embedding_size\n",
    "        self.output_size = output_size\n",
    "        self.dropout_p = dropout_p\n",
    "        self.max_length = max_length\n",
    "\n",
    "        self.embedding = nn.Embedding(self.output_size, self.embedding_size)\n",
    "        self.attn = nn.Linear(self.hidden_size + self.embedding_size, self.max_length)\n",
    "        self.attn_combine = nn.Linear(self.hidden_size + self.embedding_size, self.hidden_size)\n",
    "        self.dropout = nn.Dropout(self.dropout_p)\n",
    "        self.lstm = nn.LSTM(self.hidden_size, self.hidden_size)\n",
    "        self.out = nn.Linear(self.hidden_size, self.output_size)\n",
    "\n",
    "    def forward(self, input, hidden, encoder_outputs):\n",
    "        embedded = self.embedding(input).view(1, 1, -1)\n",
    "        embedded = self.dropout(embedded)\n",
    "\n",
    "        attn_weights = F.softmax(\n",
    "            self.attn(torch.cat((embedded[0], hidden[0][0]), 1)), dim=1)\n",
    "        attn_applied = torch.bmm(attn_weights.unsqueeze(0),\n",
    "                                 encoder_outputs.unsqueeze(0))\n",
    "\n",
    "        output = torch.cat((embedded[0], attn_applied[0]), 1)\n",
    "        output = self.attn_combine(output).unsqueeze(0)\n",
    "\n",
    "        output = F.relu(output)\n",
    "        output, *hidden = self.lstm(output, hidden)\n",
    "        hidden = hidden[0]\n",
    "\n",
    "        output = F.log_softmax(self.out(output[0]), dim=1)\n",
    "        return output, hidden, attn_weights\n",
    "\n",
    "    def initHidden(self):\n",
    "        return (torch.zeros(1, 1, self.hidden_size, device=device), torch.zeros(1, 1, self.hidden_size, device=device))"
   ]
  },
  {
   "cell_type": "markdown",
   "id": "handled-biology",
   "metadata": {
    "id": "A-Zln2vAvEyD",
    "papermill": {
     "duration": 0.037916,
     "end_time": "2021-05-02T14:18:13.580310",
     "exception": false,
     "start_time": "2021-05-02T14:18:13.542394",
     "status": "completed"
    },
    "tags": []
   },
   "source": [
    "# Training Function"
   ]
  },
  {
   "cell_type": "code",
   "execution_count": 15,
   "id": "intelligent-thesaurus",
   "metadata": {
    "execution": {
     "iopub.execute_input": "2021-05-02T14:18:13.669603Z",
     "iopub.status.busy": "2021-05-02T14:18:13.668025Z",
     "iopub.status.idle": "2021-05-02T14:18:13.670725Z",
     "shell.execute_reply": "2021-05-02T14:18:13.671277Z"
    },
    "id": "IJmz7rzvb5ND",
    "papermill": {
     "duration": 0.05303,
     "end_time": "2021-05-02T14:18:13.671453",
     "exception": false,
     "start_time": "2021-05-02T14:18:13.618423",
     "status": "completed"
    },
    "tags": []
   },
   "outputs": [],
   "source": [
    "def train(input_tensor, target_tensor, encoder, decoder, encoder_optimizer, decoder_optimizer, criterion, use_teacher_forcing=True, max_length=data_dict['max_length']):\n",
    "    encoder_hidden = encoder.initHidden()\n",
    "\n",
    "    encoder_optimizer.zero_grad()\n",
    "    decoder_optimizer.zero_grad()\n",
    "\n",
    "    # print(\"Input Tensor\", input_tensor, sep='\\n-----\\n', end='\\n#####\\n\\n')\n",
    "    # print(\"Output Tensor\", target_tensor, sep='\\n-----\\n', end='\\n#####\\n\\n')\n",
    "    input_length = input_tensor.size(0)\n",
    "    target_length = target_tensor.size(0)\n",
    "\n",
    "    encoder_outputs = torch.zeros(max_length, encoder.hidden_size, device=device)\n",
    "\n",
    "    loss = 0\n",
    "    # print(f\"Input Length: {input_length} - Max Length: {max_length}\")\n",
    "    for ei in range(input_length):\n",
    "        # print(\"One Time Step\", input_tensor[ei], sep='\\n-----\\n', end='\\n#####\\n\\n')\n",
    "\n",
    "        encoder_output, encoder_hidden = encoder(\n",
    "            input_tensor[ei], encoder_hidden)\n",
    "        encoder_outputs[ei] = encoder_output[0, 0]\n",
    "\n",
    "    decoder_input = torch.tensor([[1]], device=device)\n",
    "\n",
    "    decoder_hidden = encoder_hidden\n",
    "\n",
    "    if use_teacher_forcing:\n",
    "        # Teacher forcing: Feed the target as the next input\n",
    "        for di in range(target_length):\n",
    "            # print(\"Decoder Input:\", decoder_input, \"Decoder Hidden:\", decoder_hidden.size(), \"Encoder Ouputs:\", encoder_outputs.size(), sep='\\n-----\\n', end='\\n#####\\n\\n')\n",
    "            decoder_output, decoder_hidden, decoder_attention = decoder(\n",
    "                decoder_input, decoder_hidden, encoder_outputs)\n",
    "            # print(decoder_output)\n",
    "            loss += criterion(decoder_output, target_tensor[di])\n",
    "            decoder_input = target_tensor[di]  # Teacher forcing\n",
    "\n",
    "    else:\n",
    "        # Without teacher forcing: use its own predictions as the next input\n",
    "        for di in range(target_length):\n",
    "            decoder_output, decoder_hidden, decoder_attention = decoder(\n",
    "                decoder_input, decoder_hidden, encoder_outputs)\n",
    "            topv, topi = decoder_output.topk(1)\n",
    "            decoder_input = topi.squeeze().detach()  # detach from history as input\n",
    "\n",
    "            loss += criterion(decoder_output, target_tensor[di])\n",
    "            if decoder_input.item() == 2:\n",
    "                break\n",
    "\n",
    "    loss.backward()\n",
    "\n",
    "    encoder_optimizer.step()\n",
    "    decoder_optimizer.step()\n",
    "\n",
    "    return loss.item() / target_length"
   ]
  },
  {
   "cell_type": "code",
   "execution_count": 16,
   "id": "incorporated-import",
   "metadata": {
    "execution": {
     "iopub.execute_input": "2021-05-02T14:18:13.761800Z",
     "iopub.status.busy": "2021-05-02T14:18:13.760953Z",
     "iopub.status.idle": "2021-05-02T14:18:13.768382Z",
     "shell.execute_reply": "2021-05-02T14:18:13.769049Z"
    },
    "id": "azf1YwxJQfw7",
    "papermill": {
     "duration": 0.055698,
     "end_time": "2021-05-02T14:18:13.769189",
     "exception": false,
     "start_time": "2021-05-02T14:18:13.713491",
     "status": "completed"
    },
    "tags": []
   },
   "outputs": [],
   "source": [
    "def evaluate_train(input_tensor, target_tensor, encoder, decoder, use_teacher_forcing=False, max_length=data_dict['max_length']):\n",
    "    encoder_hidden = encoder.initHidden()\n",
    "\n",
    "    # print(\"Input Tensor\", input_tensor, sep='\\n-----\\n', end='\\n#####\\n\\n')\n",
    "    # print(\"Output Tensor\", target_tensor, sep='\\n-----\\n', end='\\n#####\\n\\n')\n",
    "    input_length = input_tensor.size(0)\n",
    "    target_length = target_tensor.size(0)\n",
    "\n",
    "    encoder_outputs = torch.zeros(max_length, encoder.hidden_size, device=device)\n",
    "\n",
    "    loss = 0\n",
    "    # print(f\"Input Length: {input_length} - Max Length: {max_length}\")\n",
    "    for ei in range(input_length):\n",
    "        # print(\"One Time Step\", input_tensor[ei], sep='\\n-----\\n', end='\\n#####\\n\\n')\n",
    "\n",
    "        encoder_output, encoder_hidden = encoder(input_tensor[ei], encoder_hidden)\n",
    "        encoder_outputs[ei] = encoder_output[0, 0]\n",
    "\n",
    "    decoder_input = torch.tensor([[1]], device=device)\n",
    "\n",
    "    decoder_hidden = encoder_hidden\n",
    "\n",
    "    if use_teacher_forcing:\n",
    "        # Teacher forcing: Feed the target as the next input\n",
    "        for di in range(target_length):\n",
    "            # print(\"Decoder Input:\", decoder_input, \"Decoder Hidden:\", decoder_hidden.size(), \"Encoder Ouputs:\", encoder_outputs.size(), sep='\\n-----\\n', end='\\n#####\\n\\n')\n",
    "            decoder_output, decoder_hidden, decoder_attention = decoder(decoder_input, decoder_hidden, encoder_outputs)\n",
    "            # print(decoder_output)\n",
    "            # loss += criterion(decoder_output, target_tensor[di])\n",
    "            if not decoder_input.item() == target_tensor[di]:  # Teacher forcing\n",
    "                return 0\n",
    "\n",
    "    else:\n",
    "        # Without teacher forcing: use its own predictions as the next input\n",
    "        for di in range(target_length):\n",
    "            decoder_output, decoder_hidden, decoder_attention = decoder(\n",
    "                decoder_input, decoder_hidden, encoder_outputs)\n",
    "            topv, topi = decoder_output.topk(1)\n",
    "            decoder_input = topi.squeeze().detach()  # detach from history as input\n",
    "\n",
    "            if not decoder_input.item() == target_tensor[di]:\n",
    "                return 0\n",
    "\n",
    "    return 1"
   ]
  },
  {
   "cell_type": "code",
   "execution_count": 17,
   "id": "thousand-reality",
   "metadata": {
    "execution": {
     "iopub.execute_input": "2021-05-02T14:18:13.857201Z",
     "iopub.status.busy": "2021-05-02T14:18:13.856335Z",
     "iopub.status.idle": "2021-05-02T14:18:13.863010Z",
     "shell.execute_reply": "2021-05-02T14:18:13.863696Z"
    },
    "id": "b6ofwdGaE785",
    "papermill": {
     "duration": 0.056488,
     "end_time": "2021-05-02T14:18:13.863893",
     "exception": false,
     "start_time": "2021-05-02T14:18:13.807405",
     "status": "completed"
    },
    "tags": []
   },
   "outputs": [],
   "source": [
    "def trainIters(encoder, decoder, use_teacher_forcing=True, learning_rate=0.001, epochs=3):\n",
    "\n",
    "    encoder_optimizer = optim.Adam(encoder.parameters(), lr=learning_rate)\n",
    "    decoder_optimizer = optim.Adam(decoder.parameters(), lr=learning_rate)\n",
    "  \n",
    "    criterion = nn.NLLLoss()\n",
    "\n",
    "    for j in range(epochs) :\n",
    "\n",
    "      n_iters = len(train_dl)\n",
    "      tqdm_object = tqdm(enumerate(train_dl, 1), total=n_iters, desc=f'Epoch {j}')\n",
    "\n",
    "      for iter, training_pair in tqdm_object:\n",
    "          input_tensor, target_tensor = training_pair[0].T, training_pair[1].T\n",
    "\n",
    "          loss = train(input_tensor, target_tensor, encoder,\n",
    "                      decoder, encoder_optimizer, decoder_optimizer, criterion, use_teacher_forcing)\n",
    "          \n",
    "          tqdm_object.set_postfix({'ex_loss': loss})\n",
    "\n",
    "      with torch.no_grad():\n",
    "          \n",
    "          train_total_count, train_match_count = 0, 0\n",
    "\n",
    "          for iter, training_pair in enumerate(train_dl, 1):\n",
    "              input_tensor, target_tensor = training_pair[0].T, training_pair[1].T\n",
    "\n",
    "              train_match_count += evaluate_train(input_tensor, target_tensor, encoder, decoder, use_teacher_forcing)\n",
    "              train_total_count += 1\n",
    "              train_acc = train_match_count/train_total_count\n",
    "\n",
    "          val_total_count, val_match_count = 0, 0\n",
    "\n",
    "          for iter, validation_pair in enumerate(valid_dl, 1):\n",
    "              input_tensor, target_tensor = validation_pair[0].T, validation_pair[1].T\n",
    "\n",
    "              val_match_count += evaluate_train(input_tensor, target_tensor, encoder, decoder, use_teacher_forcing)\n",
    "              val_total_count += 1\n",
    "              val_acc = val_match_count/val_total_count\n",
    "\n",
    "          print(f\" Training Accuracy: {train_acc*100:.4f}% - Validation Accuracy: {val_acc*100:.4f}%\")\n",
    "          wandb.log({'epoch': j, \n",
    "                     'train_acc': train_acc,\n",
    "                     'val_acc': val_acc\n",
    "                    })\n"
   ]
  },
  {
   "cell_type": "markdown",
   "id": "compliant-component",
   "metadata": {
    "id": "twDQIVRuvMIN",
    "papermill": {
     "duration": 0.038107,
     "end_time": "2021-05-02T14:18:13.940976",
     "exception": false,
     "start_time": "2021-05-02T14:18:13.902869",
     "status": "completed"
    },
    "tags": []
   },
   "source": [
    "# Training"
   ]
  },
  {
   "cell_type": "code",
   "execution_count": 18,
   "id": "defensive-garden",
   "metadata": {
    "execution": {
     "iopub.execute_input": "2021-05-02T14:18:14.027468Z",
     "iopub.status.busy": "2021-05-02T14:18:14.026780Z",
     "iopub.status.idle": "2021-05-02T14:18:14.039570Z",
     "shell.execute_reply": "2021-05-02T14:18:14.039940Z"
    },
    "id": "Ocy_IYYIZebi",
    "outputId": "872e7d06-779f-45e6-e745-26a6029e2ec3",
    "papermill": {
     "duration": 0.060815,
     "end_time": "2021-05-02T14:18:14.040085",
     "exception": false,
     "start_time": "2021-05-02T14:18:13.979270",
     "status": "completed"
    },
    "tags": []
   },
   "outputs": [
    {
     "data": {
      "text/plain": [
       "[tensor([16, 13, 12, 12, 20], device='cuda:0')]"
      ]
     },
     "execution_count": 18,
     "metadata": {},
     "output_type": "execute_result"
    }
   ],
   "source": [
    "tk.encode(['hello'])"
   ]
  },
  {
   "cell_type": "code",
   "execution_count": 19,
   "id": "genuine-suspect",
   "metadata": {
    "execution": {
     "iopub.execute_input": "2021-05-02T14:18:14.124806Z",
     "iopub.status.busy": "2021-05-02T14:18:14.124202Z",
     "iopub.status.idle": "2021-05-02T14:18:14.997111Z",
     "shell.execute_reply": "2021-05-02T14:18:14.996431Z"
    },
    "id": "4Z6tJu3Fb5NK",
    "papermill": {
     "duration": 0.917579,
     "end_time": "2021-05-02T14:18:14.997243",
     "exception": false,
     "start_time": "2021-05-02T14:18:14.079664",
     "status": "completed"
    },
    "tags": []
   },
   "outputs": [],
   "source": [
    "embedding_size = 20\n",
    "hidden_size = 256\n",
    "encoder1 = EncoderRNN(tk.input_vocab.__len__()+1, embedding_size, hidden_size).to(device)\n",
    "attn_decoder1 = AttnDecoderRNN(embedding_size, hidden_size, tk.output_vocab.__len__()+1, dropout_p=0.1).to(device)"
   ]
  },
  {
   "cell_type": "code",
   "execution_count": 20,
   "id": "micro-refrigerator",
   "metadata": {
    "execution": {
     "iopub.execute_input": "2021-05-02T14:18:15.085082Z",
     "iopub.status.busy": "2021-05-02T14:18:15.084269Z",
     "iopub.status.idle": "2021-05-02T15:51:25.112122Z",
     "shell.execute_reply": "2021-05-02T15:51:25.112735Z"
    },
    "id": "ixGEuJRCaw5e",
    "outputId": "faafac9c-7c32-49d8-b03f-b56f83638c10",
    "papermill": {
     "duration": 5590.07582,
     "end_time": "2021-05-02T15:51:25.112911",
     "exception": false,
     "start_time": "2021-05-02T14:18:15.037091",
     "status": "completed"
    },
    "tags": []
   },
   "outputs": [
    {
     "name": "stderr",
     "output_type": "stream",
     "text": [
      "Epoch 0:   0%|          | 0/88528 [00:00<?, ?it/s]/opt/conda/lib/python3.7/site-packages/ipykernel_launcher.py:15: UserWarning: To copy construct from a tensor, it is recommended to use sourceTensor.clone().detach() or sourceTensor.clone().detach().requires_grad_(True), rather than torch.tensor(sourceTensor).\n",
      "  from ipykernel import kernelapp as app\n",
      "Epoch 0: 100%|██████████| 88528/88528 [41:20<00:00, 35.69it/s, ex_loss=7.02]\n",
      "Epoch 1:   0%|          | 4/88528 [00:00<40:03, 36.84it/s, ex_loss=1.66]"
     ]
    },
    {
     "name": "stdout",
     "output_type": "stream",
     "text": [
      " Training Accuracy: 0.0000% - Validation Accuracy: 0.0000%\n"
     ]
    },
    {
     "name": "stderr",
     "output_type": "stream",
     "text": [
      "Epoch 1: 100%|██████████| 88528/88528 [42:28<00:00, 34.73it/s, ex_loss=5.91]\n"
     ]
    },
    {
     "name": "stdout",
     "output_type": "stream",
     "text": [
      " Training Accuracy: 0.0000% - Validation Accuracy: 0.0000%\n"
     ]
    }
   ],
   "source": [
    "trainIters(encoder1, attn_decoder1, use_teacher_forcing=True, epochs=2)"
   ]
  },
  {
   "cell_type": "code",
   "execution_count": 21,
   "id": "signal-refrigerator",
   "metadata": {
    "execution": {
     "iopub.execute_input": "2021-05-02T15:53:24.025595Z",
     "iopub.status.busy": "2021-05-02T15:53:24.024568Z",
     "iopub.status.idle": "2021-05-02T17:28:41.498430Z",
     "shell.execute_reply": "2021-05-02T17:28:41.498897Z"
    },
    "id": "hV1b_3ltnJVS",
    "outputId": "c60fe852-69e0-493b-ba6c-d646716459c9",
    "papermill": {
     "duration": 5776.615742,
     "end_time": "2021-05-02T17:28:41.499051",
     "exception": false,
     "start_time": "2021-05-02T15:52:24.883309",
     "status": "completed"
    },
    "tags": []
   },
   "outputs": [
    {
     "name": "stderr",
     "output_type": "stream",
     "text": [
      "Epoch 0:   0%|          | 0/88528 [00:00<?, ?it/s]/opt/conda/lib/python3.7/site-packages/ipykernel_launcher.py:15: UserWarning: To copy construct from a tensor, it is recommended to use sourceTensor.clone().detach() or sourceTensor.clone().detach().requires_grad_(True), rather than torch.tensor(sourceTensor).\n",
      "  from ipykernel import kernelapp as app\n",
      "Epoch 0: 100%|██████████| 88528/88528 [41:55<00:00, 35.19it/s, ex_loss=7.25]\n",
      "Epoch 1:   0%|          | 6/88528 [00:00<30:25, 48.49it/s, ex_loss=3]   "
     ]
    },
    {
     "name": "stdout",
     "output_type": "stream",
     "text": [
      " Training Accuracy: 0.5140% - Validation Accuracy: 0.4044%\n"
     ]
    },
    {
     "name": "stderr",
     "output_type": "stream",
     "text": [
      "Epoch 1: 100%|██████████| 88528/88528 [41:06<00:00, 35.90it/s, ex_loss=6.69]\n"
     ]
    },
    {
     "name": "stdout",
     "output_type": "stream",
     "text": [
      " Training Accuracy: 1.3510% - Validation Accuracy: 1.3852%\n"
     ]
    }
   ],
   "source": [
    "trainIters(encoder1, attn_decoder1, use_teacher_forcing=False, epochs=2)"
   ]
  },
  {
   "cell_type": "markdown",
   "id": "arbitrary-jacksonville",
   "metadata": {
    "id": "jVCTUEcmvRnH",
    "papermill": {
     "duration": 116.368887,
     "end_time": "2021-05-02T17:32:34.628921",
     "exception": false,
     "start_time": "2021-05-02T17:30:38.260034",
     "status": "completed"
    },
    "tags": []
   },
   "source": [
    "# Evaluation"
   ]
  },
  {
   "cell_type": "code",
   "execution_count": 22,
   "id": "contemporary-sister",
   "metadata": {
    "execution": {
     "iopub.execute_input": "2021-05-02T17:36:27.430745Z",
     "iopub.status.busy": "2021-05-02T17:36:27.429765Z",
     "iopub.status.idle": "2021-05-02T17:36:27.437225Z",
     "shell.execute_reply": "2021-05-02T17:36:27.437707Z"
    },
    "id": "09IMjV6Eb5NI",
    "papermill": {
     "duration": 116.06789,
     "end_time": "2021-05-02T17:36:27.437869",
     "exception": false,
     "start_time": "2021-05-02T17:34:31.369979",
     "status": "completed"
    },
    "tags": []
   },
   "outputs": [],
   "source": [
    "def evaluate(encoder, decoder, word, max_length=data_dict['train']['max_source_length']):\n",
    "    with torch.no_grad():\n",
    "\n",
    "        input_tensor = tk.encode([word])[0].T\n",
    "        input_length = input_tensor.size()[0]\n",
    "        encoder_hidden = encoder.initHidden()\n",
    "\n",
    "        encoder_outputs = torch.zeros(max_length, encoder.hidden_size, device=device)\n",
    "\n",
    "        for ei in range(input_length):\n",
    "          \n",
    "            encoder_output, encoder_hidden = encoder(input_tensor[ei],\n",
    "                                                     encoder_hidden)\n",
    "            encoder_outputs[ei] += encoder_output[0, 0]\n",
    "\n",
    "        decoder_input = torch.tensor([[1]], device=device)  # SOS\n",
    "\n",
    "        decoder_hidden = encoder_hidden\n",
    "\n",
    "        decoded_chars = []\n",
    "        decoder_attentions = torch.zeros(max_length, max_length)\n",
    "\n",
    "        for di in range(max_length):\n",
    "            decoder_output, decoder_hidden, decoder_attention = decoder(\n",
    "                decoder_input, decoder_hidden, encoder_outputs)\n",
    "            decoder_attentions[di] = decoder_attention.data\n",
    "            topv, topi = decoder_output.data.topk(1)\n",
    "            if topi.item() == 2:\n",
    "                decoded_chars.append('<EOW>')\n",
    "                break\n",
    "            else:\n",
    "                decoded_chars.append(tk.idx2word_output[topi.item()])\n",
    "\n",
    "            decoder_input = topi.squeeze().detach()\n",
    "\n",
    "        return decoded_chars, decoder_attentions[:di + 1]\n"
   ]
  },
  {
   "cell_type": "code",
   "execution_count": 23,
   "id": "physical-comparison",
   "metadata": {
    "execution": {
     "iopub.execute_input": "2021-05-02T17:40:20.750140Z",
     "iopub.status.busy": "2021-05-02T17:40:20.749379Z",
     "iopub.status.idle": "2021-05-02T17:40:20.752794Z",
     "shell.execute_reply": "2021-05-02T17:40:20.753317Z"
    },
    "id": "BPTnCzk0b5NJ",
    "papermill": {
     "duration": 116.283656,
     "end_time": "2021-05-02T17:40:20.753503",
     "exception": false,
     "start_time": "2021-05-02T17:38:24.469847",
     "status": "completed"
    },
    "tags": []
   },
   "outputs": [],
   "source": [
    "def evaluateRandomly(encoder, decoder):\n",
    "    pair = ['adam']\n",
    "    print('>', pair[0])\n",
    "    output_words, attentions = evaluate(encoder, decoder, pair[0])\n",
    "    output_word= ''.join(output_words)\n",
    "    print('<', output_word)\n",
    "    print('')"
   ]
  },
  {
   "cell_type": "code",
   "execution_count": 24,
   "id": "vulnerable-south",
   "metadata": {
    "execution": {
     "iopub.execute_input": "2021-05-02T17:44:13.231154Z",
     "iopub.status.busy": "2021-05-02T17:44:13.230367Z",
     "iopub.status.idle": "2021-05-02T17:44:13.250411Z",
     "shell.execute_reply": "2021-05-02T17:44:13.251046Z"
    },
    "id": "F7Lw9oBvb5NK",
    "papermill": {
     "duration": 116.292843,
     "end_time": "2021-05-02T17:44:13.251206",
     "exception": false,
     "start_time": "2021-05-02T17:42:16.958363",
     "status": "completed"
    },
    "tags": []
   },
   "outputs": [
    {
     "name": "stdout",
     "output_type": "stream",
     "text": [
      "> adam\n",
      "< सदाम<EOW>\n",
      "\n"
     ]
    }
   ],
   "source": [
    "evaluateRandomly(encoder1, attn_decoder1)"
   ]
  },
  {
   "cell_type": "code",
   "execution_count": 25,
   "id": "legal-undergraduate",
   "metadata": {
    "execution": {
     "iopub.execute_input": "2021-05-02T17:48:07.018460Z",
     "iopub.status.busy": "2021-05-02T17:48:07.017588Z",
     "iopub.status.idle": "2021-05-02T17:48:07.024502Z",
     "shell.execute_reply": "2021-05-02T17:48:07.025440Z"
    },
    "id": "CCTXbGvInNC_",
    "papermill": {
     "duration": 116.722436,
     "end_time": "2021-05-02T17:48:07.025638",
     "exception": false,
     "start_time": "2021-05-02T17:46:10.303202",
     "status": "completed"
    },
    "tags": []
   },
   "outputs": [],
   "source": [
    "def evaluate_test(encoder, decoder, use_teacher_forcing=True, learning_rate=0.001, epochs=3):\n",
    "\n",
    "    with torch.no_grad():\n",
    "\n",
    "          train_total_count, train_match_count = 0, 0\n",
    "          n_iters = len(train_dl)\n",
    "          tqdm_object = tqdm(enumerate(train_dl, 1), total=n_iters, desc=f'Train')\n",
    "\n",
    "          for iter, training_pair in tqdm_object:\n",
    "              input_tensor, target_tensor = training_pair[0].T, training_pair[1].T\n",
    "\n",
    "              train_match_count += evaluate_train(input_tensor, target_tensor, encoder, decoder, use_teacher_forcing)\n",
    "              train_total_count += 1\n",
    "              train_acc = train_match_count/train_total_count\n",
    "\n",
    "          valid_total_count, valid_match_count = 0, 0\n",
    "          n_iters = len(valid_dl)\n",
    "          tqdm_object = tqdm(enumerate(valid_dl, 1), total=n_iters, desc=f'Valid')\n",
    "\n",
    "          for iter, validation_pair in tqdm_object:\n",
    "              input_tensor, target_tensor = validation_pair[0].T, validation_pair[1].T\n",
    "\n",
    "              valid_match_count += evaluate_train(input_tensor, target_tensor, encoder, decoder, use_teacher_forcing)\n",
    "              valid_total_count += 1\n",
    "              valid_acc = valid_match_count/valid_total_count\n",
    "\n",
    "          test_total_count, test_match_count = 0, 0\n",
    "          n_iters = len(test_dl)\n",
    "          tqdm_object = tqdm(enumerate(test_dl, 1), total=n_iters, desc=f'Test')\n",
    "\n",
    "          for iter, testing_pair in tqdm_object:\n",
    "              input_tensor, target_tensor = testing_pair[0].T, testing_pair[1].T\n",
    "\n",
    "              test_match_count += evaluate_train(input_tensor, target_tensor, encoder, decoder, use_teacher_forcing)\n",
    "              test_total_count += 1\n",
    "              test_acc = test_match_count/test_total_count\n",
    "\n",
    "          print(f\" Training Accuracy: {train_acc*100:.4f}% - Validation Accuracy: {valid_acc*100:.4f}% - Testing Accuracy: {test_acc*100:.4f}%\")\n",
    "          wandb.log({'use_teacher_forcing': use_teacher_forcing,\n",
    "                     'train_acc': train_acc,\n",
    "                     'val_acc': valid_acc,\n",
    "                     'test_acc': test_acc\n",
    "                   })"
   ]
  },
  {
   "cell_type": "code",
   "execution_count": 26,
   "id": "ongoing-mississippi",
   "metadata": {
    "execution": {
     "iopub.execute_input": "2021-05-02T17:52:00.970928Z",
     "iopub.status.busy": "2021-05-02T17:52:00.970067Z",
     "iopub.status.idle": "2021-05-02T17:57:15.548907Z",
     "shell.execute_reply": "2021-05-02T17:57:15.548257Z"
    },
    "id": "twO7RhgBof7k",
    "papermill": {
     "duration": 431.695402,
     "end_time": "2021-05-02T17:57:15.549068",
     "exception": false,
     "start_time": "2021-05-02T17:50:03.853666",
     "status": "completed"
    },
    "tags": []
   },
   "outputs": [
    {
     "name": "stderr",
     "output_type": "stream",
     "text": [
      "Train:   0%|          | 0/88528 [00:00<?, ?it/s]/opt/conda/lib/python3.7/site-packages/ipykernel_launcher.py:15: UserWarning: To copy construct from a tensor, it is recommended to use sourceTensor.clone().detach() or sourceTensor.clone().detach().requires_grad_(True), rather than torch.tensor(sourceTensor).\n",
      "  from ipykernel import kernelapp as app\n",
      "Train: 100%|██████████| 88528/88528 [04:17<00:00, 343.18it/s]\n",
      "Valid: 100%|██████████| 9890/9890 [00:28<00:00, 351.64it/s]\n",
      "Test: 100%|██████████| 10041/10041 [00:28<00:00, 352.60it/s]\n"
     ]
    },
    {
     "name": "stdout",
     "output_type": "stream",
     "text": [
      " Training Accuracy: 0.0000% - Validation Accuracy: 0.0000% - Testing Accuracy: 0.0000%\n"
     ]
    }
   ],
   "source": [
    "evaluate_test(encoder1, attn_decoder1, True)"
   ]
  },
  {
   "cell_type": "code",
   "execution_count": 27,
   "id": "proved-mediterranean",
   "metadata": {
    "execution": {
     "iopub.execute_input": "2021-05-02T18:01:10.684300Z",
     "iopub.status.busy": "2021-05-02T18:01:10.683427Z",
     "iopub.status.idle": "2021-05-02T18:07:13.041493Z",
     "shell.execute_reply": "2021-05-02T18:07:13.039705Z"
    },
    "id": "vy-NL44bowzZ",
    "papermill": {
     "duration": 479.660234,
     "end_time": "2021-05-02T18:07:13.041638",
     "exception": false,
     "start_time": "2021-05-02T17:59:13.381404",
     "status": "completed"
    },
    "tags": []
   },
   "outputs": [
    {
     "name": "stderr",
     "output_type": "stream",
     "text": [
      "Train:   0%|          | 0/88528 [00:00<?, ?it/s]/opt/conda/lib/python3.7/site-packages/ipykernel_launcher.py:15: UserWarning: To copy construct from a tensor, it is recommended to use sourceTensor.clone().detach() or sourceTensor.clone().detach().requires_grad_(True), rather than torch.tensor(sourceTensor).\n",
      "  from ipykernel import kernelapp as app\n",
      "Train: 100%|██████████| 88528/88528 [04:57<00:00, 297.36it/s]\n",
      "Valid: 100%|██████████| 9890/9890 [00:32<00:00, 306.57it/s]\n",
      "Test: 100%|██████████| 10041/10041 [00:32<00:00, 310.18it/s]"
     ]
    },
    {
     "name": "stdout",
     "output_type": "stream",
     "text": [
      " Training Accuracy: 1.3521% - Validation Accuracy: 1.4156% - Testing Accuracy: 1.2648%\n"
     ]
    },
    {
     "name": "stderr",
     "output_type": "stream",
     "text": [
      "\n"
     ]
    }
   ],
   "source": [
    "evaluate_test(encoder1, attn_decoder1, False)"
   ]
  },
  {
   "cell_type": "markdown",
   "id": "vulnerable-edition",
   "metadata": {
    "id": "7b8y5Jp5b5NK",
    "papermill": {
     "duration": 118.800075,
     "end_time": "2021-05-02T18:11:11.252910",
     "exception": false,
     "start_time": "2021-05-02T18:09:12.452835",
     "status": "completed"
    },
    "tags": []
   },
   "source": [
    "Visualizing Attention\n",
    "---------------------\n",
    "\n",
    "A useful property of the attention mechanism is its highly interpretable\n",
    "outputs. Because it is used to weight specific encoder outputs of the\n",
    "input sequence, we can imagine looking where the network is focused most\n",
    "at each time step.\n",
    "\n",
    "You could simply run ``plt.matshow(attentions)`` to see attention output\n",
    "displayed as a matrix, with the columns being input steps and rows being\n",
    "output steps:\n",
    "\n",
    "\n"
   ]
  },
  {
   "cell_type": "code",
   "execution_count": 28,
   "id": "comparable-tiffany",
   "metadata": {
    "execution": {
     "iopub.execute_input": "2021-05-02T18:15:08.948089Z",
     "iopub.status.busy": "2021-05-02T18:15:08.947306Z",
     "iopub.status.idle": "2021-05-02T18:15:09.246721Z",
     "shell.execute_reply": "2021-05-02T18:15:09.247826Z"
    },
    "id": "wza9NgQwb5NK",
    "papermill": {
     "duration": 118.947059,
     "end_time": "2021-05-02T18:15:09.248062",
     "exception": false,
     "start_time": "2021-05-02T18:13:10.301003",
     "status": "completed"
    },
    "tags": []
   },
   "outputs": [
    {
     "data": {
      "text/plain": [
       "<matplotlib.image.AxesImage at 0x7fa1f066b110>"
      ]
     },
     "execution_count": 28,
     "metadata": {},
     "output_type": "execute_result"
    },
    {
     "data": {
      "image/png": "[encoded data removed]",
      "text/plain": [
       "<Figure size 946.286x288 with 1 Axes>"
      ]
     },
     "metadata": {
      "needs_background": "light"
     },
     "output_type": "display_data"
    }
   ],
   "source": [
    "output_words, attentions = evaluate(\n",
    "    encoder1, attn_decoder1, \"topper\")\n",
    "plt.matshow(attentions.numpy())"
   ]
  },
  {
   "cell_type": "markdown",
   "id": "opened-trial",
   "metadata": {
    "id": "1YN8FcY0b5NL",
    "papermill": {
     "duration": 117.892724,
     "end_time": "2021-05-02T18:19:05.736699",
     "exception": false,
     "start_time": "2021-05-02T18:17:07.843975",
     "status": "completed"
    },
    "tags": []
   },
   "source": [
    "For a better viewing experience we will do the extra work of adding axes\n",
    "and labels:\n",
    "\n",
    "\n"
   ]
  },
  {
   "cell_type": "code",
   "execution_count": 29,
   "id": "worst-checkout",
   "metadata": {
    "execution": {
     "iopub.execute_input": "2021-05-02T18:23:02.704076Z",
     "iopub.status.busy": "2021-05-02T18:23:02.703153Z",
     "iopub.status.idle": "2021-05-02T18:23:04.704863Z",
     "shell.execute_reply": "2021-05-02T18:23:04.705388Z"
    },
    "id": "ORzonx-bb5NL",
    "papermill": {
     "duration": 120.692461,
     "end_time": "2021-05-02T18:23:04.705574",
     "exception": false,
     "start_time": "2021-05-02T18:21:04.013113",
     "status": "completed"
    },
    "tags": []
   },
   "outputs": [
    {
     "name": "stdout",
     "output_type": "stream",
     "text": [
      "input = aniswar\n",
      "output = स्निस्र<EOW>\n"
     ]
    },
    {
     "name": "stderr",
     "output_type": "stream",
     "text": [
      "/opt/conda/lib/python3.7/site-packages/ipykernel_launcher.py:10: UserWarning: FixedFormatter should only be used together with FixedLocator\n",
      "  # Remove the CWD from sys.path while we load stuff.\n",
      "/opt/conda/lib/python3.7/site-packages/ipykernel_launcher.py:11: UserWarning: FixedFormatter should only be used together with FixedLocator\n",
      "  # This is added back by InteractiveShellApp.init_path()\n",
      "/opt/conda/lib/python3.7/site-packages/matplotlib/backends/backend_agg.py:240: RuntimeWarning: Glyph 2360 missing from current font.\n",
      "  font.set_text(s, 0.0, flags=flags)\n",
      "/opt/conda/lib/python3.7/site-packages/matplotlib/backends/backend_agg.py:240: RuntimeWarning: Glyph 2381 missing from current font.\n",
      "  font.set_text(s, 0.0, flags=flags)\n",
      "/opt/conda/lib/python3.7/site-packages/matplotlib/backends/backend_agg.py:240: RuntimeWarning: Glyph 2344 missing from current font.\n",
      "  font.set_text(s, 0.0, flags=flags)\n",
      "/opt/conda/lib/python3.7/site-packages/matplotlib/backends/backend_agg.py:240: RuntimeWarning: Glyph 2367 missing from current font.\n",
      "  font.set_text(s, 0.0, flags=flags)\n",
      "/opt/conda/lib/python3.7/site-packages/matplotlib/backends/backend_agg.py:240: RuntimeWarning: Glyph 2352 missing from current font.\n",
      "  font.set_text(s, 0.0, flags=flags)\n",
      "/opt/conda/lib/python3.7/site-packages/matplotlib/backends/backend_agg.py:203: RuntimeWarning: Glyph 2360 missing from current font.\n",
      "  font.set_text(s, 0, flags=flags)\n",
      "/opt/conda/lib/python3.7/site-packages/matplotlib/backends/backend_agg.py:203: RuntimeWarning: Glyph 2381 missing from current font.\n",
      "  font.set_text(s, 0, flags=flags)\n",
      "/opt/conda/lib/python3.7/site-packages/matplotlib/backends/backend_agg.py:203: RuntimeWarning: Glyph 2344 missing from current font.\n",
      "  font.set_text(s, 0, flags=flags)\n",
      "/opt/conda/lib/python3.7/site-packages/matplotlib/backends/backend_agg.py:203: RuntimeWarning: Glyph 2367 missing from current font.\n",
      "  font.set_text(s, 0, flags=flags)\n",
      "/opt/conda/lib/python3.7/site-packages/matplotlib/backends/backend_agg.py:203: RuntimeWarning: Glyph 2352 missing from current font.\n",
      "  font.set_text(s, 0, flags=flags)\n"
     ]
    },
    {
     "data": {
      "image/png": "[encoded data removed]",
      "text/plain": [
       "<Figure size 432x288 with 2 Axes>"
      ]
     },
     "metadata": {
      "needs_background": "light"
     },
     "output_type": "display_data"
    },
    {
     "name": "stdout",
     "output_type": "stream",
     "text": [
      "input = elephant\n",
      "output = े्लिफनटट<EOW>\n"
     ]
    },
    {
     "name": "stderr",
     "output_type": "stream",
     "text": [
      "/opt/conda/lib/python3.7/site-packages/matplotlib/backends/backend_agg.py:240: RuntimeWarning: Glyph 2375 missing from current font.\n",
      "  font.set_text(s, 0.0, flags=flags)\n",
      "/opt/conda/lib/python3.7/site-packages/matplotlib/backends/backend_agg.py:240: RuntimeWarning: Glyph 2354 missing from current font.\n",
      "  font.set_text(s, 0.0, flags=flags)\n",
      "/opt/conda/lib/python3.7/site-packages/matplotlib/backends/backend_agg.py:240: RuntimeWarning: Glyph 2347 missing from current font.\n",
      "  font.set_text(s, 0.0, flags=flags)\n",
      "/opt/conda/lib/python3.7/site-packages/matplotlib/backends/backend_agg.py:240: RuntimeWarning: Glyph 2335 missing from current font.\n",
      "  font.set_text(s, 0.0, flags=flags)\n",
      "/opt/conda/lib/python3.7/site-packages/matplotlib/backends/backend_agg.py:203: RuntimeWarning: Glyph 2375 missing from current font.\n",
      "  font.set_text(s, 0, flags=flags)\n",
      "/opt/conda/lib/python3.7/site-packages/matplotlib/backends/backend_agg.py:203: RuntimeWarning: Glyph 2354 missing from current font.\n",
      "  font.set_text(s, 0, flags=flags)\n",
      "/opt/conda/lib/python3.7/site-packages/matplotlib/backends/backend_agg.py:203: RuntimeWarning: Glyph 2347 missing from current font.\n",
      "  font.set_text(s, 0, flags=flags)\n",
      "/opt/conda/lib/python3.7/site-packages/matplotlib/backends/backend_agg.py:203: RuntimeWarning: Glyph 2335 missing from current font.\n",
      "  font.set_text(s, 0, flags=flags)\n"
     ]
    },
    {
     "data": {
      "image/png": "[encoded data removed]",
      "text/plain": [
       "<Figure size 432x288 with 2 Axes>"
      ]
     },
     "metadata": {
      "needs_background": "light"
     },
     "output_type": "display_data"
    },
    {
     "name": "stdout",
     "output_type": "stream",
     "text": [
      "input = dragon\n",
      "output = व्रोगगन<EOW>\n"
     ]
    },
    {
     "name": "stderr",
     "output_type": "stream",
     "text": [
      "/opt/conda/lib/python3.7/site-packages/matplotlib/backends/backend_agg.py:240: RuntimeWarning: Glyph 2357 missing from current font.\n",
      "  font.set_text(s, 0.0, flags=flags)\n",
      "/opt/conda/lib/python3.7/site-packages/matplotlib/backends/backend_agg.py:240: RuntimeWarning: Glyph 2379 missing from current font.\n",
      "  font.set_text(s, 0.0, flags=flags)\n",
      "/opt/conda/lib/python3.7/site-packages/matplotlib/backends/backend_agg.py:240: RuntimeWarning: Glyph 2327 missing from current font.\n",
      "  font.set_text(s, 0.0, flags=flags)\n",
      "/opt/conda/lib/python3.7/site-packages/matplotlib/backends/backend_agg.py:203: RuntimeWarning: Glyph 2357 missing from current font.\n",
      "  font.set_text(s, 0, flags=flags)\n",
      "/opt/conda/lib/python3.7/site-packages/matplotlib/backends/backend_agg.py:203: RuntimeWarning: Glyph 2379 missing from current font.\n",
      "  font.set_text(s, 0, flags=flags)\n",
      "/opt/conda/lib/python3.7/site-packages/matplotlib/backends/backend_agg.py:203: RuntimeWarning: Glyph 2327 missing from current font.\n",
      "  font.set_text(s, 0, flags=flags)\n"
     ]
    },
    {
     "data": {
      "image/png": "[encoded data removed]",
      "text/plain": [
       "<Figure size 432x288 with 2 Axes>"
      ]
     },
     "metadata": {
      "needs_background": "light"
     },
     "output_type": "display_data"
    },
    {
     "name": "stdout",
     "output_type": "stream",
     "text": [
      "input = tiger\n",
      "output = सेगेर<EOW>\n"
     ]
    },
    {
     "data": {
      "image/png": "[encoded data removed]",
      "text/plain": [
       "<Figure size 432x288 with 2 Axes>"
      ]
     },
     "metadata": {
      "needs_background": "light"
     },
     "output_type": "display_data"
    }
   ],
   "source": [
    "def showAttention(input_word, output_words, attentions):\n",
    "    # Set up figure with colorbar\n",
    "    fig = plt.figure()\n",
    "    ax = fig.add_subplot(111)\n",
    "    cax = ax.matshow(attentions.numpy(), cmap='bone')\n",
    "    fig.colorbar(cax)\n",
    "\n",
    "    # Set up axes\n",
    "    ax.set_xticklabels([''] + input_word.split(' ') +\n",
    "                       ['<EOW>'], rotation=90)\n",
    "    ax.set_yticklabels([''] + output_words)\n",
    "\n",
    "    # Show label at every tick\n",
    "    ax.xaxis.set_major_locator(ticker.MultipleLocator(1))\n",
    "    ax.yaxis.set_major_locator(ticker.MultipleLocator(1))\n",
    "    \n",
    "    wandb.log({f'image+{input_word}': wandb.Image(fig)})\n",
    "    plt.show()\n",
    "\n",
    "\n",
    "def evaluateAndShowAttention(input_word):\n",
    "    output_words, attentions = evaluate(\n",
    "        encoder1, attn_decoder1, input_word)\n",
    "    print('input =', input_word)\n",
    "    print('output =', ''.join(output_words))\n",
    "    showAttention(input_word, output_words, attentions)\n",
    "    \n",
    "\n",
    "\n",
    "evaluateAndShowAttention(\"aniswar\")\n",
    "\n",
    "evaluateAndShowAttention(\"elephant\")\n",
    "\n",
    "evaluateAndShowAttention(\"dragon\")\n",
    "\n",
    "evaluateAndShowAttention(\"tiger\")"
   ]
  },
  {
   "cell_type": "markdown",
   "id": "handy-copying",
   "metadata": {
    "id": "9ooVMYf7b5NL",
    "papermill": {
     "duration": 117.984963,
     "end_time": "2021-05-02T18:27:01.043499",
     "exception": false,
     "start_time": "2021-05-02T18:25:03.058536",
     "status": "completed"
    },
    "tags": []
   },
   "source": [
    "Exercises\n",
    "=========\n",
    "\n",
    "-  Try with a different dataset\n",
    "\n",
    "   -  Another language pair\n",
    "   -  Human → Machine (e.g. IOT commands)\n",
    "   -  Chat → Response\n",
    "   -  Question → Answer\n",
    "\n",
    "-  Replace the embeddings with pre-trained word embeddings such as word2vec or\n",
    "   GloVe\n",
    "-  Try with more layers, more hidden units, and more sentences. Compare\n",
    "   the training time and results.\n",
    "-  If you use a translation file where pairs have two of the same phrase\n",
    "   (``I am test \\t I am test``), you can use this as an autoencoder. Try\n",
    "   this:\n",
    "\n",
    "   -  Train as an autoencoder\n",
    "   -  Save only the Encoder network\n",
    "   -  Train a new Decoder for translation from there\n",
    "\n",
    "\n"
   ]
  },
  {
   "cell_type": "code",
   "execution_count": 30,
   "id": "agreed-finland",
   "metadata": {
    "execution": {
     "iopub.execute_input": "2021-05-02T18:30:56.792470Z",
     "iopub.status.busy": "2021-05-02T18:30:56.791274Z",
     "iopub.status.idle": "2021-05-02T18:30:56.798994Z",
     "shell.execute_reply": "2021-05-02T18:30:56.799594Z"
    },
    "id": "7EKyhk9DubzK",
    "papermill": {
     "duration": 117.985805,
     "end_time": "2021-05-02T18:30:56.799772",
     "exception": false,
     "start_time": "2021-05-02T18:28:58.813967",
     "status": "completed"
    },
    "tags": []
   },
   "outputs": [
    {
     "name": "stdout",
     "output_type": "stream",
     "text": [
      "n\n",
      "a\n",
      "n\n"
     ]
    }
   ],
   "source": [
    "for j in \"nan\" :\n",
    "  print(j)"
   ]
  }
 ],
 "metadata": {
  "kernelspec": {
   "display_name": "Python 3",
   "language": "python",
   "name": "python3"
  },
  "language_info": {
   "codemirror_mode": {
    "name": "ipython",
    "version": 3
   },
   "file_extension": ".py",
   "mimetype": "text/x-python",
   "name": "python",
   "nbconvert_exporter": "python",
   "pygments_lexer": "ipython3",
   "version": "3.7.10"
  },
  "papermill": {
   "default_parameters": {},
   "duration": 15355.693398,
   "end_time": "2021-05-02T18:32:57.692747",
   "environment_variables": {},
   "exception": null,
   "input_path": "__notebook__.ipynb",
   "output_path": "__notebook__.ipynb",
   "parameters": {},
   "start_time": "2021-05-02T14:17:01.999349",
   "version": "2.3.3"
  },
  "widgets": {
   "application/vnd.jupyter.widget-state+json": {
    "state": {
     "00461817b2644685b96e5fc8e69b53b0": {
      "model_module": "@jupyter-widgets/controls",
      "model_module_version": "1.5.0",
      "model_name": "FloatProgressModel",
      "state": {
       "_dom_classes": [],
       "_model_module": "@jupyter-widgets/controls",
       "_model_module_version": "1.5.0",
       "_model_name": "FloatProgressModel",
       "_view_count": null,
       "_view_module": "@jupyter-widgets/controls",
       "_view_module_version": "1.5.0",
       "_view_name": "ProgressView",
       "bar_style": "",
       "description": "",
       "description_tooltip": null,
       "layout": "IPY_MODEL_4ec2ae5aba454f0aaf72cd12b0901adc",
       "max": 1,
       "min": 0,
       "orientation": "horizontal",
       "style": "IPY_MODEL_29cf7e21456a47de8eaf904c5f5aee36",
       "value": 0
      }
     },
     "028c1fcb87644767ac92c9cf3000a87a": {
      "model_module": "@jupyter-widgets/controls",
      "model_module_version": "1.5.0",
      "model_name": "VBoxModel",
      "state": {
       "_dom_classes": [],
       "_model_module": "@jupyter-widgets/controls",
       "_model_module_version": "1.5.0",
       "_model_name": "VBoxModel",
       "_view_count": null,
       "_view_module": "@jupyter-widgets/controls",
       "_view_module_version": "1.5.0",
       "_view_name": "VBoxView",
       "box_style": "",
       "children": [
        "IPY_MODEL_2fdedef85a394bd29a55f0cd0b00a838",
        "IPY_MODEL_00461817b2644685b96e5fc8e69b53b0"
       ],
       "layout": "IPY_MODEL_2191b6bc116c407abe4c375d79ade9ed"
      }
     },
     "0bdafa1b5c7f4c9e992f780c6dea737d": {
      "model_module": "@jupyter-widgets/base",
      "model_module_version": "1.2.0",
      "model_name": "LayoutModel",
      "state": {
       "_model_module": "@jupyter-widgets/base",
       "_model_module_version": "1.2.0",
       "_model_name": "LayoutModel",
       "_view_count": null,
       "_view_module": "@jupyter-widgets/base",
       "_view_module_version": "1.2.0",
       "_view_name": "LayoutView",
       "align_content": null,
       "align_items": null,
       "align_self": null,
       "border": null,
       "bottom": null,
       "display": null,
       "flex": null,
       "flex_flow": null,
       "grid_area": null,
       "grid_auto_columns": null,
       "grid_auto_flow": null,
       "grid_auto_rows": null,
       "grid_column": null,
       "grid_gap": null,
       "grid_row": null,
       "grid_template_areas": null,
       "grid_template_columns": null,
       "grid_template_rows": null,
       "height": null,
       "justify_content": null,
       "justify_items": null,
       "left": null,
       "margin": null,
       "max_height": null,
       "max_width": null,
       "min_height": null,
       "min_width": null,
       "object_fit": null,
       "object_position": null,
       "order": null,
       "overflow": null,
       "overflow_x": null,
       "overflow_y": null,
       "padding": null,
       "right": null,
       "top": null,
       "visibility": null,
       "width": null
      }
     },
     "2191b6bc116c407abe4c375d79ade9ed": {
      "model_module": "@jupyter-widgets/base",
      "model_module_version": "1.2.0",
      "model_name": "LayoutModel",
      "state": {
       "_model_module": "@jupyter-widgets/base",
       "_model_module_version": "1.2.0",
       "_model_name": "LayoutModel",
       "_view_count": null,
       "_view_module": "@jupyter-widgets/base",
       "_view_module_version": "1.2.0",
       "_view_name": "LayoutView",
       "align_content": null,
       "align_items": null,
       "align_self": null,
       "border": null,
       "bottom": null,
       "display": null,
       "flex": null,
       "flex_flow": null,
       "grid_area": null,
       "grid_auto_columns": null,
       "grid_auto_flow": null,
       "grid_auto_rows": null,
       "grid_column": null,
       "grid_gap": null,
       "grid_row": null,
       "grid_template_areas": null,
       "grid_template_columns": null,
       "grid_template_rows": null,
       "height": null,
       "justify_content": null,
       "justify_items": null,
       "left": null,
       "margin": null,
       "max_height": null,
       "max_width": null,
       "min_height": null,
       "min_width": null,
       "object_fit": null,
       "object_position": null,
       "order": null,
       "overflow": null,
       "overflow_x": null,
       "overflow_y": null,
       "padding": null,
       "right": null,
       "top": null,
       "visibility": null,
       "width": null
      }
     },
     "29cf7e21456a47de8eaf904c5f5aee36": {
      "model_module": "@jupyter-widgets/controls",
      "model_module_version": "1.5.0",
      "model_name": "ProgressStyleModel",
      "state": {
       "_model_module": "@jupyter-widgets/controls",
       "_model_module_version": "1.5.0",
       "_model_name": "ProgressStyleModel",
       "_view_count": null,
       "_view_module": "@jupyter-widgets/base",
       "_view_module_version": "1.2.0",
       "_view_name": "StyleView",
       "bar_color": null,
       "description_width": ""
      }
     },
     "2fdedef85a394bd29a55f0cd0b00a838": {
      "model_module": "@jupyter-widgets/controls",
      "model_module_version": "1.5.0",
      "model_name": "LabelModel",
      "state": {
       "_dom_classes": [],
       "_model_module": "@jupyter-widgets/controls",
       "_model_module_version": "1.5.0",
       "_model_name": "LabelModel",
       "_view_count": null,
       "_view_module": "@jupyter-widgets/controls",
       "_view_module_version": "1.5.0",
       "_view_name": "LabelView",
       "description": "",
       "description_tooltip": null,
       "layout": "IPY_MODEL_0bdafa1b5c7f4c9e992f780c6dea737d",
       "placeholder": "​",
       "style": "IPY_MODEL_35f08b1c34454b72b9cc5b958aa10b24",
       "value": ""
      }
     },
     "35f08b1c34454b72b9cc5b958aa10b24": {
      "model_module": "@jupyter-widgets/controls",
      "model_module_version": "1.5.0",
      "model_name": "DescriptionStyleModel",
      "state": {
       "_model_module": "@jupyter-widgets/controls",
       "_model_module_version": "1.5.0",
       "_model_name": "DescriptionStyleModel",
       "_view_count": null,
       "_view_module": "@jupyter-widgets/base",
       "_view_module_version": "1.2.0",
       "_view_name": "StyleView",
       "description_width": ""
      }
     },
     "4ec2ae5aba454f0aaf72cd12b0901adc": {
      "model_module": "@jupyter-widgets/base",
      "model_module_version": "1.2.0",
      "model_name": "LayoutModel",
      "state": {
       "_model_module": "@jupyter-widgets/base",
       "_model_module_version": "1.2.0",
       "_model_name": "LayoutModel",
       "_view_count": null,
       "_view_module": "@jupyter-widgets/base",
       "_view_module_version": "1.2.0",
       "_view_name": "LayoutView",
       "align_content": null,
       "align_items": null,
       "align_self": null,
       "border": null,
       "bottom": null,
       "display": null,
       "flex": null,
       "flex_flow": null,
       "grid_area": null,
       "grid_auto_columns": null,
       "grid_auto_flow": null,
       "grid_auto_rows": null,
       "grid_column": null,
       "grid_gap": null,
       "grid_row": null,
       "grid_template_areas": null,
       "grid_template_columns": null,
       "grid_template_rows": null,
       "height": null,
       "justify_content": null,
       "justify_items": null,
       "left": null,
       "margin": null,
       "max_height": null,
       "max_width": null,
       "min_height": null,
       "min_width": null,
       "object_fit": null,
       "object_position": null,
       "order": null,
       "overflow": null,
       "overflow_x": null,
       "overflow_y": null,
       "padding": null,
       "right": null,
       "top": null,
       "visibility": null,
       "width": null
      }
     }
    },
    "version_major": 2,
    "version_minor": 0
   }
  }
 },
 "nbformat": 4,
 "nbformat_minor": 5
}
