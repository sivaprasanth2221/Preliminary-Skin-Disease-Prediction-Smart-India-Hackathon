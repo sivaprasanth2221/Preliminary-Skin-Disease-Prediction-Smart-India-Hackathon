import numpy as np
from tensorflow.keras.optimizers import Adam
from keras.layers import Activation, Dropout, Convolution2D, GlobalAveragePooling2D
from keras.models import Sequential
import tensorflow as tf
import tensorflow.keras.applications.mobilenet
import os
from tensorflow.keras.preprocessing.image import ImageDataGenerator
from tensorflow.keras.preprocessing import image
from tensorflow.keras.layers import Input

from google.colab import drive
drive.mount('/content/drive')

dataset_path = '/content/drive/MyDrive/Skin_sample_Data/train/'

classes = {'Actinic keratosis': 0,'Atopic Dermatitis': 1,'Benign keratosis': 2,'Dermatofibroma': 3,'Melanocytic nevus': 4,'Melanoma':5,'Squamous cell carcinoma': 6,'Tinea Ringworm Candidiasis':7,
          'Vascular lesion': 8
}

train_datagen = ImageDataGenerator(rescale = 1./255,
                                   rotation_range=20,
                                   shear_range = 0.2,
                                   zoom_range = 0.2,
                                   horizontal_flip = True)

training_set = train_datagen.flow_from_directory('/content/drive/MyDrive/Skin_sample_Data/train/',
                                                 target_size = (224,224),
                                                 batch_size = 32,
                                                 shuffle = True,
                                                 class_mode = 'categorical')

from sklearn.utils import shuffle

import cv2
img_size=224
def resize_to_square(image, size):
    h, w, c = image.shape
    ratio = size / max(h, w)
    resized_image = cv2.resize(image, (int(w*ratio), int(h*ratio)), cv2.INTER_AREA)
    return resized_image
def padding(image, min_height, min_width):
    h, w, c = image.shape

    if h < min_height:
        h_pad_top = int((min_height - h) / 2.0)
        h_pad_bottom = min_height - h - h_pad_top
    else:
        h_pad_top = 0
        h_pad_bottom = 0

    if w < min_width:
        w_pad_left = int((min_width - w) / 2.0)
        w_pad_right = min_width - w - w_pad_left
    else:
        w_pad_left = 0
        w_pad_right = 0

    return cv2.copyMakeBorder(image, h_pad_top, h_pad_bottom, w_pad_left, w_pad_right, cv2.BORDER_CONSTANT, value=(0,0,0))

def load_data(directory):
    output = []
    images = []
    labels = []
    file_names = []
    for folder in os.listdir(directory):
        print("***",folder)
        curr_label=classes[folder]
        for file in os.listdir(directory + "/" + folder):
            img_path = directory + "/" + folder + "/" + file
            curr_img = cv2.imread(img_path)
            curr_img = resize_to_square(curr_img, img_size)
            curr_img = padding(curr_img, img_size, img_size)
            images.append(curr_img)
            labels.append(curr_label)
            file_names.append(file)
    images, labels, file_names = shuffle(images, labels, file_names, random_state=817328462)     ### Shuffle the data !!!
    images = np.array(images, dtype = 'float32') ### Our images
    labels = np.array(labels, dtype = 'int32')   ### From 0 to num_classes-1!

    return images, labels, file_names

print(dataset_path)
images, labels, file_names=load_data(dataset_path)

x_data = images
y_data = labels
print(x_data.shape)
print(y_data.shape)
print(y_data)




from tensorflow.keras.models import Sequential
from tensorflow.keras.layers import Dense,Dropout,Flatten
from tensorflow.keras.layers import Conv2D,MaxPool2D, GlobalAveragePooling2D
from tensorflow.keras.models import Model
from sklearn.metrics import confusion_matrix
from tensorflow.keras.layers import Input, Dense
from tensorflow.keras.applications.inception_v3 import InceptionV3, preprocess_input
from tensorflow.keras.optimizers import SGD


from keras.utils import to_categorical
num_classes = 9
Y = to_categorical(y_data,num_classes)
X = x_data


from sklearn.model_selection import train_test_split
X_train,X_test,y_train,y_test=train_test_split(X,Y,test_size=0.25,random_state=42)
print(X_train.shape)
print(y_train.shape)
print(X_test.shape)
print(y_test.shape)


TRAINING_NUMBER = len(y_train)
BATCH_SIZE = 128
EPOCHS = 10
LEARNING_RATE = 0.005
MOMENTUM = 0.9
DECAY = 1e-6
num_channel = 3

from tensorflow.keras.layers import Input, Dense
from tensorflow.keras.applications.vgg16 import VGG16

image_input = Input(shape=(img_size,img_size,num_channel))
vgg_mod = VGG16(input_tensor=image_input, include_top=False,weights='imagenet')
vgg_mod.summary()


add_model = tf.keras.Sequential([
    tf.keras.layers.Flatten(input_shape=vgg_mod.output_shape[1:]), # the nn will learn the good filter to use
    tf.keras.layers.Dense(512, activation=tf.nn.relu),
    tf.keras.layers.Dropout(0.2),
    tf.keras.layers.Dense(9, activation=tf.nn.softmax)
])

model_vgg16 = Model(inputs=vgg_mod.input, outputs=add_model(vgg_mod.output))
model_vgg16.compile(loss='categorical_crossentropy', optimizer='adam', metrics=['accuracy'],)
model_vgg16.summary()

from keras.callbacks import ReduceLROnPlateau

callbacks_list = [ReduceLROnPlateau(monitor='loss',factor=0.2,patience=3)]

hist_1=model_vgg16.fit(X_train,y_train,
                       batch_size=BATCH_SIZE,
                       epochs=EPOCHS,
                       callbacks = callbacks_list,
                       verbose=1)

#Testing result
score = model_vgg16.evaluate(X_test, y_test, verbose=0)

print('Test loss:', score[0])
print('Test accuracy:', score[1])