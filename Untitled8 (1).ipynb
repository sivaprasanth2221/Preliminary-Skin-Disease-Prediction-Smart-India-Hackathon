{
  "nbformat": 4,
  "nbformat_minor": 0,
  "metadata": {
    "colab": {
      "provenance": [],
      "gpuType": "T4"
    },
    "kernelspec": {
      "name": "python3",
      "display_name": "Python 3"
    },
    "language_info": {
      "name": "python"
    },
    "accelerator": "GPU"
  },
  "cells": [
    {
      "cell_type": "code",
      "execution_count": 4,
      "metadata": {
        "id": "_QihTxBxTg9l"
      },
      "outputs": [],
      "source": [
        "import numpy as np\n",
        "from tensorflow.keras.optimizers import Adam\n",
        "from keras.layers import Activation, Dropout, Convolution2D, GlobalAveragePooling2D\n",
        "from keras.models import Sequential\n",
        "import tensorflow as tf\n",
        "import tensorflow.keras.applications.mobilenet\n",
        "import os\n",
        "from tensorflow.keras.preprocessing.image import ImageDataGenerator\n",
        "from tensorflow.keras.preprocessing import image\n",
        "from tensorflow.keras.layers import Input"
      ]
    },
    {
      "cell_type": "code",
      "source": [],
      "metadata": {
        "id": "b01EGVrGTq8w"
      },
      "execution_count": 4,
      "outputs": []
    },
    {
      "cell_type": "code",
      "source": [
        "dataset_path = '/content/drive/MyDrive/Skin_sample_Data/train/'"
      ],
      "metadata": {
        "id": "qwHp8qtRTvIX"
      },
      "execution_count": 5,
      "outputs": []
    },
    {
      "cell_type": "code",
      "source": [
        "classes = {'Actinic keratosis': 0,'Atopic Dermatitis': 1,'Benign keratosis': 2,'Dermatofibroma': 3,'Melanocytic nevus': 4,'Melanoma':5,'Squamous cell carcinoma': 6,'Tinea Ringworm Candidiasis':7,\n",
        "          'Vascular lesion': 8\n",
        "}\n"
      ],
      "metadata": {
        "id": "aT_VrRc_T4zN"
      },
      "execution_count": 7,
      "outputs": []
    },
    {
      "cell_type": "code",
      "source": [
        "train_datagen = ImageDataGenerator(rescale = 1./255,\n",
        "                                   rotation_range=20,\n",
        "                                   shear_range = 0.2,\n",
        "                                   zoom_range = 0.2,\n",
        "                                   horizontal_flip = True)"
      ],
      "metadata": {
        "id": "50t5B_G8Vt-X"
      },
      "execution_count": 8,
      "outputs": []
    },
    {
      "cell_type": "code",
      "source": [
        "training_set = train_datagen.flow_from_directory('/content/drive/MyDrive/Skin_sample_Data/train/',\n",
        "                                                 target_size = (224,224),\n",
        "                                                 batch_size = 32,\n",
        "                                                 shuffle = True,\n",
        "                                                 class_mode = 'categorical')"
      ],
      "metadata": {
        "colab": {
          "base_uri": "https://localhost:8080/"
        },
        "id": "0nLmD_XzUjhS",
        "outputId": "6e9dcc32-93f0-4a57-ef0e-b9210b1c1760"
      },
      "execution_count": 9,
      "outputs": [
        {
          "output_type": "stream",
          "name": "stdout",
          "text": [
            "Found 697 images belonging to 9 classes.\n"
          ]
        }
      ]
    },
    {
      "cell_type": "code",
      "source": [
        "from sklearn.utils import shuffle"
      ],
      "metadata": {
        "id": "kkriCsPaWZ-r"
      },
      "execution_count": 10,
      "outputs": []
    },
    {
      "cell_type": "code",
      "source": [
        "import cv2\n",
        "img_size=224\n",
        "def resize_to_square(image, size):\n",
        "    h, w, c = image.shape\n",
        "    ratio = size / max(h, w)\n",
        "    resized_image = cv2.resize(image, (int(w*ratio), int(h*ratio)), cv2.INTER_AREA)\n",
        "    return resized_image\n",
        "def padding(image, min_height, min_width):\n",
        "    h, w, c = image.shape\n",
        "\n",
        "    if h < min_height:\n",
        "        h_pad_top = int((min_height - h) / 2.0)\n",
        "        h_pad_bottom = min_height - h - h_pad_top\n",
        "    else:\n",
        "        h_pad_top = 0\n",
        "        h_pad_bottom = 0\n",
        "\n",
        "    if w < min_width:\n",
        "        w_pad_left = int((min_width - w) / 2.0)\n",
        "        w_pad_right = min_width - w - w_pad_left\n",
        "    else:\n",
        "        w_pad_left = 0\n",
        "        w_pad_right = 0\n",
        "\n",
        "    return cv2.copyMakeBorder(image, h_pad_top, h_pad_bottom, w_pad_left, w_pad_right, cv2.BORDER_CONSTANT, value=(0,0,0))\n",
        "\n",
        "def load_data(directory):\n",
        "    output = []\n",
        "    images = []\n",
        "    labels = []\n",
        "    file_names = []\n",
        "    for folder in os.listdir(directory):\n",
        "        print(\"***\",folder)\n",
        "        curr_label=classes[folder]\n",
        "        for file in os.listdir(directory + \"/\" + folder):\n",
        "            img_path = directory + \"/\" + folder + \"/\" + file\n",
        "            curr_img = cv2.imread(img_path)\n",
        "            curr_img = resize_to_square(curr_img, img_size)\n",
        "            curr_img = padding(curr_img, img_size, img_size)\n",
        "            images.append(curr_img)\n",
        "            labels.append(curr_label)\n",
        "            file_names.append(file)\n",
        "    images, labels, file_names = shuffle(images, labels, file_names, random_state=817328462)     ### Shuffle the data !!!\n",
        "    images = np.array(images, dtype = 'float32') ### Our images\n",
        "    labels = np.array(labels, dtype = 'int32')   ### From 0 to num_classes-1!\n",
        "\n",
        "    return images, labels, file_names\n",
        "\n",
        "print(dataset_path)\n",
        "images, labels, file_names=load_data(dataset_path)"
      ],
      "metadata": {
        "colab": {
          "base_uri": "https://localhost:8080/"
        },
        "id": "A568SG-PWeMi",
        "outputId": "a613fa47-37d4-44e5-9a30-e66cc631e20d"
      },
      "execution_count": 11,
      "outputs": [
        {
          "output_type": "stream",
          "name": "stdout",
          "text": [
            "/content/drive/MyDrive/Skin_sample_Data/train/\n",
            "*** Vascular lesion\n",
            "*** Melanoma\n",
            "*** Tinea Ringworm Candidiasis\n",
            "*** Actinic keratosis\n",
            "*** Atopic Dermatitis\n",
            "*** Melanocytic nevus\n",
            "*** Squamous cell carcinoma\n",
            "*** Dermatofibroma\n",
            "*** Benign keratosis\n"
          ]
        }
      ]
    },
    {
      "cell_type": "code",
      "source": [
        "x_data = images\n",
        "y_data = labels\n",
        "print(x_data.shape)\n",
        "print(y_data.shape)\n",
        "print(y_data)\n"
      ],
      "metadata": {
        "id": "yEGDQ2_PYMCI",
        "colab": {
          "base_uri": "https://localhost:8080/"
        },
        "outputId": "e2d0bae2-98e5-469a-9d8c-ebed3694a3bd"
      },
      "execution_count": 12,
      "outputs": [
        {
          "output_type": "stream",
          "name": "stdout",
          "text": [
            "(697, 224, 224, 3)\n",
            "(697,)\n",
            "[2 8 3 3 7 5 2 6 1 1 8 1 4 4 8 4 4 5 0 4 8 0 1 7 1 8 6 4 6 4 6 1 4 4 1 2 2\n",
            " 6 7 8 2 1 7 8 7 1 8 3 0 4 3 6 7 8 3 5 4 0 8 7 4 5 2 7 4 6 1 5 7 2 8 8 6 5\n",
            " 6 5 7 6 1 1 4 6 8 7 0 7 2 2 0 1 2 5 4 4 2 5 0 1 3 8 6 2 2 0 0 8 0 8 5 1 8\n",
            " 0 4 1 2 3 6 7 4 4 5 6 6 6 7 6 1 6 8 8 3 8 1 1 8 1 4 1 2 3 2 4 0 4 4 2 6 2\n",
            " 5 6 4 0 6 6 7 1 2 8 2 7 1 0 6 3 5 0 8 8 4 0 6 3 5 3 8 6 2 0 4 1 2 3 7 1 2\n",
            " 5 8 0 5 7 1 5 1 5 7 5 6 7 5 3 8 1 7 7 2 3 1 0 3 8 2 2 8 0 3 6 5 2 0 6 8 8\n",
            " 0 4 4 6 5 0 8 5 4 4 0 8 3 3 8 4 3 3 6 6 8 7 8 6 1 4 1 7 5 8 0 6 4 1 6 6 0\n",
            " 5 7 0 1 4 5 7 4 6 5 8 3 8 7 0 1 1 8 1 4 4 3 5 0 4 2 3 2 4 3 5 4 7 6 7 8 8\n",
            " 2 3 5 3 6 8 0 8 0 8 5 5 5 4 8 1 1 3 2 4 5 4 1 5 3 3 0 6 0 2 2 4 3 7 6 7 3\n",
            " 2 3 6 4 6 0 3 5 4 5 2 6 0 4 8 5 2 0 6 2 0 1 5 6 1 7 0 0 4 3 5 4 3 5 8 4 4\n",
            " 3 6 7 0 3 5 5 5 4 6 0 1 2 5 1 3 5 3 0 4 3 6 1 3 0 1 0 4 6 5 5 1 6 5 6 2 0\n",
            " 0 2 1 0 2 4 1 3 2 3 5 0 8 2 3 4 8 1 7 3 5 8 8 2 6 2 8 2 1 2 3 6 7 2 7 3 8\n",
            " 8 2 5 3 4 6 0 6 5 3 6 6 1 5 4 8 0 7 5 3 3 8 2 2 7 0 1 3 2 7 0 4 3 5 1 4 4\n",
            " 2 5 3 6 4 2 0 7 1 0 4 6 5 8 6 6 3 0 7 0 0 1 2 6 2 0 0 8 5 1 2 5 5 6 6 6 3\n",
            " 0 0 4 5 3 4 3 5 7 3 7 3 0 3 0 3 3 6 7 2 0 0 1 0 2 5 6 1 2 0 6 2 5 3 3 5 8\n",
            " 0 5 8 2 8 2 1 1 1 1 5 8 1 8 2 0 4 0 3 2 1 0 1 1 4 3 8 7 1 8 1 7 4 2 8 8 0\n",
            " 6 3 8 2 5 7 1 6 0 1 6 6 2 4 4 3 5 3 4 8 5 8 5 5 2 7 4 0 4 2 6 8 8 1 2 1 3\n",
            " 8 8 6 8 4 2 1 3 8 2 5 2 0 2 2 0 7 7 5 7 6 3 0 6 3 4 8 2 7 3 1 2 8 0 4 7 1\n",
            " 6 1 8 6 7 4 5 6 5 1 4 7 0 4 5 1 3 7 2 5 6 2 4 1 0 5 1 3 3 1 3]\n"
          ]
        }
      ]
    },
    {
      "cell_type": "code",
      "source": [
        "from google.colab import drive\n",
        "drive.mount('/content/drive')"
      ],
      "metadata": {
        "id": "Uy9cqlZLKkYv",
        "colab": {
          "base_uri": "https://localhost:8080/"
        },
        "outputId": "96ffd92b-469c-445e-f96e-bf8f2d1a1c63"
      },
      "execution_count": 13,
      "outputs": [
        {
          "output_type": "stream",
          "name": "stdout",
          "text": [
            "Drive already mounted at /content/drive; to attempt to forcibly remount, call drive.mount(\"/content/drive\", force_remount=True).\n"
          ]
        }
      ]
    },
    {
      "cell_type": "code",
      "source": [
        "from tensorflow.keras.models import Sequential\n",
        "from tensorflow.keras.layers import Dense,Dropout,Flatten\n",
        "from tensorflow.keras.layers import Conv2D,MaxPool2D, GlobalAveragePooling2D\n",
        "from tensorflow.keras.models import Model\n",
        "from sklearn.metrics import confusion_matrix\n",
        "from tensorflow.keras.layers import Input, Dense\n",
        "from tensorflow.keras.applications.inception_v3 import InceptionV3, preprocess_input\n",
        "from tensorflow.keras.optimizers import SGD"
      ],
      "metadata": {
        "id": "qRHeps0Ty0lj"
      },
      "execution_count": 14,
      "outputs": []
    },
    {
      "cell_type": "code",
      "source": [
        "from keras.utils import to_categorical\n",
        "num_classes = 9\n",
        "Y = to_categorical(y_data,num_classes)\n",
        "X = x_data"
      ],
      "metadata": {
        "id": "B22ltU_vy3x8"
      },
      "execution_count": 15,
      "outputs": []
    },
    {
      "cell_type": "code",
      "source": [
        "from sklearn.model_selection import train_test_split\n",
        "X_train,X_test,y_train,y_test=train_test_split(X,Y,test_size=0.25,random_state=42)\n",
        "print(X_train.shape)\n",
        "print(y_train.shape)\n",
        "print(X_test.shape)\n",
        "print(y_test.shape)\n"
      ],
      "metadata": {
        "colab": {
          "base_uri": "https://localhost:8080/"
        },
        "id": "Ofr3GLGb0qsf",
        "outputId": "71034f2c-ec0a-4f98-be9d-8638f3a65361"
      },
      "execution_count": 16,
      "outputs": [
        {
          "output_type": "stream",
          "name": "stdout",
          "text": [
            "(522, 224, 224, 3)\n",
            "(522, 9)\n",
            "(175, 224, 224, 3)\n",
            "(175, 9)\n"
          ]
        }
      ]
    },
    {
      "cell_type": "code",
      "source": [
        "TRAINING_NUMBER = len(y_train)\n",
        "BATCH_SIZE = 128\n",
        "EPOCHS = 10\n",
        "LEARNING_RATE = 0.005\n",
        "MOMENTUM = 0.9\n",
        "DECAY = 1e-6\n",
        "num_channel = 3"
      ],
      "metadata": {
        "id": "QjUypoAp1Thx"
      },
      "execution_count": 17,
      "outputs": []
    },
    {
      "cell_type": "code",
      "source": [
        "from tensorflow.keras.layers import Input, Dense\n",
        "from tensorflow.keras.applications.vgg16 import VGG16\n",
        "\n",
        "image_input = Input(shape=(img_size,img_size,num_channel))\n",
        "vgg_mod = VGG16(input_tensor=image_input, include_top=False,weights='imagenet')\n",
        "vgg_mod.summary()"
      ],
      "metadata": {
        "colab": {
          "base_uri": "https://localhost:8080/"
        },
        "id": "rfuaocwu1aZi",
        "outputId": "275268d8-83b1-43a6-fff4-9be18b5c8152"
      },
      "execution_count": 18,
      "outputs": [
        {
          "output_type": "stream",
          "name": "stdout",
          "text": [
            "Model: \"vgg16\"\n",
            "_________________________________________________________________\n",
            " Layer (type)                Output Shape              Param #   \n",
            "=================================================================\n",
            " input_1 (InputLayer)        [(None, 224, 224, 3)]     0         \n",
            "                                                                 \n",
            " block1_conv1 (Conv2D)       (None, 224, 224, 64)      1792      \n",
            "                                                                 \n",
            " block1_conv2 (Conv2D)       (None, 224, 224, 64)      36928     \n",
            "                                                                 \n",
            " block1_pool (MaxPooling2D)  (None, 112, 112, 64)      0         \n",
            "                                                                 \n",
            " block2_conv1 (Conv2D)       (None, 112, 112, 128)     73856     \n",
            "                                                                 \n",
            " block2_conv2 (Conv2D)       (None, 112, 112, 128)     147584    \n",
            "                                                                 \n",
            " block2_pool (MaxPooling2D)  (None, 56, 56, 128)       0         \n",
            "                                                                 \n",
            " block3_conv1 (Conv2D)       (None, 56, 56, 256)       295168    \n",
            "                                                                 \n",
            " block3_conv2 (Conv2D)       (None, 56, 56, 256)       590080    \n",
            "                                                                 \n",
            " block3_conv3 (Conv2D)       (None, 56, 56, 256)       590080    \n",
            "                                                                 \n",
            " block3_pool (MaxPooling2D)  (None, 28, 28, 256)       0         \n",
            "                                                                 \n",
            " block4_conv1 (Conv2D)       (None, 28, 28, 512)       1180160   \n",
            "                                                                 \n",
            " block4_conv2 (Conv2D)       (None, 28, 28, 512)       2359808   \n",
            "                                                                 \n",
            " block4_conv3 (Conv2D)       (None, 28, 28, 512)       2359808   \n",
            "                                                                 \n",
            " block4_pool (MaxPooling2D)  (None, 14, 14, 512)       0         \n",
            "                                                                 \n",
            " block5_conv1 (Conv2D)       (None, 14, 14, 512)       2359808   \n",
            "                                                                 \n",
            " block5_conv2 (Conv2D)       (None, 14, 14, 512)       2359808   \n",
            "                                                                 \n",
            " block5_conv3 (Conv2D)       (None, 14, 14, 512)       2359808   \n",
            "                                                                 \n",
            " block5_pool (MaxPooling2D)  (None, 7, 7, 512)         0         \n",
            "                                                                 \n",
            "=================================================================\n",
            "Total params: 14714688 (56.13 MB)\n",
            "Trainable params: 14714688 (56.13 MB)\n",
            "Non-trainable params: 0 (0.00 Byte)\n",
            "_________________________________________________________________\n"
          ]
        }
      ]
    },
    {
      "cell_type": "code",
      "source": [
        "add_model = tf.keras.Sequential([\n",
        "    tf.keras.layers.Flatten(input_shape=vgg_mod.output_shape[1:]), # the nn will learn the good filter to use\n",
        "    tf.keras.layers.Dense(512, activation=tf.nn.relu),\n",
        "    tf.keras.layers.Dropout(0.2),\n",
        "    tf.keras.layers.Dense(9, activation=tf.nn.softmax)\n",
        "])\n",
        "\n",
        "model_vgg16 = Model(inputs=vgg_mod.input, outputs=add_model(vgg_mod.output))\n",
        "model_vgg16.compile(loss='categorical_crossentropy', optimizer='adam', metrics=['accuracy'],)\n",
        "model_vgg16.summary()"
      ],
      "metadata": {
        "colab": {
          "base_uri": "https://localhost:8080/"
        },
        "id": "0kok2REd1gY7",
        "outputId": "425c22c0-bccd-48bb-bb2b-6699542809e1"
      },
      "execution_count": 19,
      "outputs": [
        {
          "output_type": "stream",
          "name": "stdout",
          "text": [
            "Model: \"model\"\n",
            "_________________________________________________________________\n",
            " Layer (type)                Output Shape              Param #   \n",
            "=================================================================\n",
            " input_1 (InputLayer)        [(None, 224, 224, 3)]     0         \n",
            "                                                                 \n",
            " block1_conv1 (Conv2D)       (None, 224, 224, 64)      1792      \n",
            "                                                                 \n",
            " block1_conv2 (Conv2D)       (None, 224, 224, 64)      36928     \n",
            "                                                                 \n",
            " block1_pool (MaxPooling2D)  (None, 112, 112, 64)      0         \n",
            "                                                                 \n",
            " block2_conv1 (Conv2D)       (None, 112, 112, 128)     73856     \n",
            "                                                                 \n",
            " block2_conv2 (Conv2D)       (None, 112, 112, 128)     147584    \n",
            "                                                                 \n",
            " block2_pool (MaxPooling2D)  (None, 56, 56, 128)       0         \n",
            "                                                                 \n",
            " block3_conv1 (Conv2D)       (None, 56, 56, 256)       295168    \n",
            "                                                                 \n",
            " block3_conv2 (Conv2D)       (None, 56, 56, 256)       590080    \n",
            "                                                                 \n",
            " block3_conv3 (Conv2D)       (None, 56, 56, 256)       590080    \n",
            "                                                                 \n",
            " block3_pool (MaxPooling2D)  (None, 28, 28, 256)       0         \n",
            "                                                                 \n",
            " block4_conv1 (Conv2D)       (None, 28, 28, 512)       1180160   \n",
            "                                                                 \n",
            " block4_conv2 (Conv2D)       (None, 28, 28, 512)       2359808   \n",
            "                                                                 \n",
            " block4_conv3 (Conv2D)       (None, 28, 28, 512)       2359808   \n",
            "                                                                 \n",
            " block4_pool (MaxPooling2D)  (None, 14, 14, 512)       0         \n",
            "                                                                 \n",
            " block5_conv1 (Conv2D)       (None, 14, 14, 512)       2359808   \n",
            "                                                                 \n",
            " block5_conv2 (Conv2D)       (None, 14, 14, 512)       2359808   \n",
            "                                                                 \n",
            " block5_conv3 (Conv2D)       (None, 14, 14, 512)       2359808   \n",
            "                                                                 \n",
            " block5_pool (MaxPooling2D)  (None, 7, 7, 512)         0         \n",
            "                                                                 \n",
            " sequential (Sequential)     (None, 9)                 12850185  \n",
            "                                                                 \n",
            "=================================================================\n",
            "Total params: 27564873 (105.15 MB)\n",
            "Trainable params: 27564873 (105.15 MB)\n",
            "Non-trainable params: 0 (0.00 Byte)\n",
            "_________________________________________________________________\n"
          ]
        }
      ]
    },
    {
      "cell_type": "code",
      "source": [
        "from keras.callbacks import ReduceLROnPlateau\n",
        "\n",
        "callbacks_list = [ReduceLROnPlateau(monitor='loss',factor=0.2,patience=3)]"
      ],
      "metadata": {
        "id": "ZZOzY0za1oIp"
      },
      "execution_count": 20,
      "outputs": []
    },
    {
      "cell_type": "code",
      "source": [
        "hist_1=model_vgg16.fit(X_train,y_train,\n",
        "                       batch_size=BATCH_SIZE,\n",
        "                       epochs=EPOCHS,\n",
        "                       callbacks = callbacks_list,\n",
        "                       verbose=1)"
      ],
      "metadata": {
        "colab": {
          "base_uri": "https://localhost:8080/"
        },
        "id": "EyY1Fjfd1rW4",
        "outputId": "a89f381c-eee4-4255-b02d-9d5196b69797"
      },
      "execution_count": null,
      "outputs": [
        {
          "output_type": "stream",
          "name": "stdout",
          "text": [
            "Epoch 1/10\n"
          ]
        }
      ]
    },
    {
      "cell_type": "code",
      "source": [
        "#Testing result\n",
        "score = model_vgg16.evaluate(X_test, y_test, verbose=0)\n",
        "\n",
        "print('Test loss:', score[0])\n",
        "print('Test accuracy:', score[1])"
      ],
      "metadata": {
        "id": "DICRLLvs4Nn9"
      },
      "execution_count": null,
      "outputs": []
    }
  ]
}